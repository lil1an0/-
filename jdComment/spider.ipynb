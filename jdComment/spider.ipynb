{
 "cells": [
  {
   "cell_type": "code",
   "execution_count": 1,
   "metadata": {},
   "outputs": [
    {
     "ename": "SSLError",
     "evalue": "HTTPSConnectionPool(host='item.jd.com', port=443): Max retries exceeded with url: /100149709084.html (Caused by SSLError(SSLEOFError(8, 'EOF occurred in violation of protocol (_ssl.c:2406)')))",
     "output_type": "error",
     "traceback": [
      "\u001b[0;31m---------------------------------------------------------------------------\u001b[0m",
      "\u001b[0;31mSSLError\u001b[0m                                  Traceback (most recent call last)",
      "\u001b[0;31mSSLError\u001b[0m: EOF occurred in violation of protocol (_ssl.c:2406)",
      "\nThe above exception was the direct cause of the following exception:\n",
      "\u001b[0;31mMaxRetryError\u001b[0m                             Traceback (most recent call last)",
      "File \u001b[0;32m~/PythonVenvs/bigdataProject/lib/python3.12/site-packages/requests/adapters.py:667\u001b[0m, in \u001b[0;36mHTTPAdapter.send\u001b[0;34m(self, request, stream, timeout, verify, cert, proxies)\u001b[0m\n\u001b[1;32m    666\u001b[0m \u001b[38;5;28;01mtry\u001b[39;00m:\n\u001b[0;32m--> 667\u001b[0m     resp \u001b[38;5;241m=\u001b[39m \u001b[43mconn\u001b[49m\u001b[38;5;241;43m.\u001b[39;49m\u001b[43murlopen\u001b[49m\u001b[43m(\u001b[49m\n\u001b[1;32m    668\u001b[0m \u001b[43m        \u001b[49m\u001b[43mmethod\u001b[49m\u001b[38;5;241;43m=\u001b[39;49m\u001b[43mrequest\u001b[49m\u001b[38;5;241;43m.\u001b[39;49m\u001b[43mmethod\u001b[49m\u001b[43m,\u001b[49m\n\u001b[1;32m    669\u001b[0m \u001b[43m        \u001b[49m\u001b[43murl\u001b[49m\u001b[38;5;241;43m=\u001b[39;49m\u001b[43murl\u001b[49m\u001b[43m,\u001b[49m\n\u001b[1;32m    670\u001b[0m \u001b[43m        \u001b[49m\u001b[43mbody\u001b[49m\u001b[38;5;241;43m=\u001b[39;49m\u001b[43mrequest\u001b[49m\u001b[38;5;241;43m.\u001b[39;49m\u001b[43mbody\u001b[49m\u001b[43m,\u001b[49m\n\u001b[1;32m    671\u001b[0m \u001b[43m        \u001b[49m\u001b[43mheaders\u001b[49m\u001b[38;5;241;43m=\u001b[39;49m\u001b[43mrequest\u001b[49m\u001b[38;5;241;43m.\u001b[39;49m\u001b[43mheaders\u001b[49m\u001b[43m,\u001b[49m\n\u001b[1;32m    672\u001b[0m \u001b[43m        \u001b[49m\u001b[43mredirect\u001b[49m\u001b[38;5;241;43m=\u001b[39;49m\u001b[38;5;28;43;01mFalse\u001b[39;49;00m\u001b[43m,\u001b[49m\n\u001b[1;32m    673\u001b[0m \u001b[43m        \u001b[49m\u001b[43massert_same_host\u001b[49m\u001b[38;5;241;43m=\u001b[39;49m\u001b[38;5;28;43;01mFalse\u001b[39;49;00m\u001b[43m,\u001b[49m\n\u001b[1;32m    674\u001b[0m \u001b[43m        \u001b[49m\u001b[43mpreload_content\u001b[49m\u001b[38;5;241;43m=\u001b[39;49m\u001b[38;5;28;43;01mFalse\u001b[39;49;00m\u001b[43m,\u001b[49m\n\u001b[1;32m    675\u001b[0m \u001b[43m        \u001b[49m\u001b[43mdecode_content\u001b[49m\u001b[38;5;241;43m=\u001b[39;49m\u001b[38;5;28;43;01mFalse\u001b[39;49;00m\u001b[43m,\u001b[49m\n\u001b[1;32m    676\u001b[0m \u001b[43m        \u001b[49m\u001b[43mretries\u001b[49m\u001b[38;5;241;43m=\u001b[39;49m\u001b[38;5;28;43mself\u001b[39;49m\u001b[38;5;241;43m.\u001b[39;49m\u001b[43mmax_retries\u001b[49m\u001b[43m,\u001b[49m\n\u001b[1;32m    677\u001b[0m \u001b[43m        \u001b[49m\u001b[43mtimeout\u001b[49m\u001b[38;5;241;43m=\u001b[39;49m\u001b[43mtimeout\u001b[49m\u001b[43m,\u001b[49m\n\u001b[1;32m    678\u001b[0m \u001b[43m        \u001b[49m\u001b[43mchunked\u001b[49m\u001b[38;5;241;43m=\u001b[39;49m\u001b[43mchunked\u001b[49m\u001b[43m,\u001b[49m\n\u001b[1;32m    679\u001b[0m \u001b[43m    \u001b[49m\u001b[43m)\u001b[49m\n\u001b[1;32m    681\u001b[0m \u001b[38;5;28;01mexcept\u001b[39;00m (ProtocolError, \u001b[38;5;167;01mOSError\u001b[39;00m) \u001b[38;5;28;01mas\u001b[39;00m err:\n",
      "File \u001b[0;32m~/PythonVenvs/bigdataProject/lib/python3.12/site-packages/urllib3/connectionpool.py:841\u001b[0m, in \u001b[0;36mHTTPConnectionPool.urlopen\u001b[0;34m(self, method, url, body, headers, retries, redirect, assert_same_host, timeout, pool_timeout, release_conn, chunked, body_pos, preload_content, decode_content, **response_kw)\u001b[0m\n\u001b[1;32m    839\u001b[0m     new_e \u001b[38;5;241m=\u001b[39m ProtocolError(\u001b[38;5;124m\"\u001b[39m\u001b[38;5;124mConnection aborted.\u001b[39m\u001b[38;5;124m\"\u001b[39m, new_e)\n\u001b[0;32m--> 841\u001b[0m retries \u001b[38;5;241m=\u001b[39m \u001b[43mretries\u001b[49m\u001b[38;5;241;43m.\u001b[39;49m\u001b[43mincrement\u001b[49m\u001b[43m(\u001b[49m\n\u001b[1;32m    842\u001b[0m \u001b[43m    \u001b[49m\u001b[43mmethod\u001b[49m\u001b[43m,\u001b[49m\u001b[43m \u001b[49m\u001b[43murl\u001b[49m\u001b[43m,\u001b[49m\u001b[43m \u001b[49m\u001b[43merror\u001b[49m\u001b[38;5;241;43m=\u001b[39;49m\u001b[43mnew_e\u001b[49m\u001b[43m,\u001b[49m\u001b[43m \u001b[49m\u001b[43m_pool\u001b[49m\u001b[38;5;241;43m=\u001b[39;49m\u001b[38;5;28;43mself\u001b[39;49m\u001b[43m,\u001b[49m\u001b[43m \u001b[49m\u001b[43m_stacktrace\u001b[49m\u001b[38;5;241;43m=\u001b[39;49m\u001b[43msys\u001b[49m\u001b[38;5;241;43m.\u001b[39;49m\u001b[43mexc_info\u001b[49m\u001b[43m(\u001b[49m\u001b[43m)\u001b[49m\u001b[43m[\u001b[49m\u001b[38;5;241;43m2\u001b[39;49m\u001b[43m]\u001b[49m\n\u001b[1;32m    843\u001b[0m \u001b[43m\u001b[49m\u001b[43m)\u001b[49m\n\u001b[1;32m    844\u001b[0m retries\u001b[38;5;241m.\u001b[39msleep()\n",
      "File \u001b[0;32m~/PythonVenvs/bigdataProject/lib/python3.12/site-packages/urllib3/util/retry.py:519\u001b[0m, in \u001b[0;36mRetry.increment\u001b[0;34m(self, method, url, response, error, _pool, _stacktrace)\u001b[0m\n\u001b[1;32m    518\u001b[0m     reason \u001b[38;5;241m=\u001b[39m error \u001b[38;5;129;01mor\u001b[39;00m ResponseError(cause)\n\u001b[0;32m--> 519\u001b[0m     \u001b[38;5;28;01mraise\u001b[39;00m MaxRetryError(_pool, url, reason) \u001b[38;5;28;01mfrom\u001b[39;00m \u001b[38;5;21;01mreason\u001b[39;00m  \u001b[38;5;66;03m# type: ignore[arg-type]\u001b[39;00m\n\u001b[1;32m    521\u001b[0m log\u001b[38;5;241m.\u001b[39mdebug(\u001b[38;5;124m\"\u001b[39m\u001b[38;5;124mIncremented Retry for (url=\u001b[39m\u001b[38;5;124m'\u001b[39m\u001b[38;5;132;01m%s\u001b[39;00m\u001b[38;5;124m'\u001b[39m\u001b[38;5;124m): \u001b[39m\u001b[38;5;132;01m%r\u001b[39;00m\u001b[38;5;124m\"\u001b[39m, url, new_retry)\n",
      "\u001b[0;31mMaxRetryError\u001b[0m: HTTPSConnectionPool(host='item.jd.com', port=443): Max retries exceeded with url: /100149709084.html (Caused by SSLError(SSLEOFError(8, 'EOF occurred in violation of protocol (_ssl.c:2406)')))",
      "\nDuring handling of the above exception, another exception occurred:\n",
      "\u001b[0;31mSSLError\u001b[0m                                  Traceback (most recent call last)",
      "Cell \u001b[0;32mIn[1], line 19\u001b[0m\n\u001b[1;32m     11\u001b[0m url \u001b[38;5;241m=\u001b[39m \u001b[38;5;124m\"\u001b[39m\u001b[38;5;124mhttps://item.jd.com/100149709084.html#none\u001b[39m\u001b[38;5;124m\"\u001b[39m\n\u001b[1;32m     14\u001b[0m headers \u001b[38;5;241m=\u001b[39m {\n\u001b[1;32m     15\u001b[0m     \u001b[38;5;124m\"\u001b[39m\u001b[38;5;124mUser-Agent\u001b[39m\u001b[38;5;124m\"\u001b[39m: \u001b[38;5;124m\"\u001b[39m\u001b[38;5;124mMozilla/5.0 (Macintosh; Intel Mac OS X 10_15_7) AppleWebKit/537.36 (KHTML, like Gecko) Chrome/131.0.0.0 Safari/537.36\u001b[39m\u001b[38;5;124m\"\u001b[39m,\n\u001b[1;32m     16\u001b[0m     \u001b[38;5;124m\"\u001b[39m\u001b[38;5;124mCookie\u001b[39m\u001b[38;5;124m\"\u001b[39m: \u001b[38;5;124m\"\u001b[39m\u001b[38;5;124m__jdu=1728703232609782802814; shshshfpa=b46700c2-e81f-b5b5-7bbf-8faf5fc40553-1720857953; shshshfpx=b46700c2-e81f-b5b5-7bbf-8faf5fc40553-1720857953; unpl=JF8EAJ5nNSttXkMEV08BEkdATA0GWwhdTR5XbmEMBA9QGFwNH1FOG0R7XlVdWBRLFx9sZBRUXFNOUw4YASsSEHteVVxcDEsRA21uNWRVUCVXSBtsGHwQBhAZbl4IexcCX2cDV1ReSlYGGQEcExhNVFdXXAtCFwZfZjVUW2h7ZAQrAysTIAAzVRNdDkgeBW5lBlZeX0pcAxIBEhMTQl1Rblw4SA; TrackID=1vnpRNeoMTYq-EYjd59mYpcs_ehTiK7MqsNtvEIgZNEmgEDyf4S0en0hzx188j4W7RIKC9OyBQtTyA3e2Ew0tDfp6uW1_lbhjXOGKTX--8gTeB5kkC5maWdJkQjkCZ9R0; thor=A845C60E3533A84D9EFE3A6890C355953C3CD9D6A0A8230B38D109F6B75A4883C969F0A537A37D8FB6420D9A37E9CC8B6AADBAD2CD6422A022A3920697C652CDAB7B7E30644C52A4BB30A61E2EC7F1FA706E5CCC515A3A7AEF5199BDCCC10CDB738580F93B4FB44E92BE6755092F07173C0AA9F85DEBF6045CDD9F962146422E; light_key=AASBKE7rOxgWQziEhC_QY6yaEjCWE9GiDdTNtgexuaMDug3RIXwESwZbee5zz3Kh0lAO6SGY; pinId=R_c6HPHHKeGtPVPmzXlKLg; pin=\u001b[39m\u001b[38;5;132;01m%E\u001b[39;00m\u001b[38;5;124m8\u001b[39m\u001b[38;5;124m%\u001b[39m\u001b[38;5;124mA1\u001b[39m\u001b[38;5;132;01m%97%\u001b[39;00m\u001b[38;5;124mE8\u001b[39m\u001b[38;5;124m%\u001b[39m\u001b[38;5;124mA7\u001b[39m\u001b[38;5;124m%\u001b[39m\u001b[38;5;124m921144; unick=aw4756ksd6ifid; _tp=4Skysd0XdN1Q4BoYBTWNKOOe0UOVH7vBlsgys\u001b[39m\u001b[38;5;124m%\u001b[39m\u001b[38;5;124m2B1cPMw\u001b[39m\u001b[38;5;124m%\u001b[39m\u001b[38;5;124m3D; _pst=\u001b[39m\u001b[38;5;132;01m%E\u001b[39;00m\u001b[38;5;124m8\u001b[39m\u001b[38;5;124m%\u001b[39m\u001b[38;5;124mA1\u001b[39m\u001b[38;5;132;01m%97%\u001b[39;00m\u001b[38;5;124mE8\u001b[39m\u001b[38;5;124m%\u001b[39m\u001b[38;5;124mA7\u001b[39m\u001b[38;5;124m%\u001b[39m\u001b[38;5;124m921144; __jdv=181111935|direct|-|none|-|1732533362977; PCSYCityID=CN_320000_320100_0; umc_count=1; areaId=12; source=PC; platform=pc; jsavif=1; flash=3_z4umOXdTelyA6YsJQmN5aO8DWBEeeMdYJsHZ80lQAiP44FfL1GWv9lHPNJjgqFa6PMUDSRjtdU8a5kh2-qct8vRmuaWprpOLaKQQy48DzGvVwExN7TPRtDlyiV-RowTSg6sGGhW9cksvPdzkHeN2gAzR36s9br2C9hs5huGR6Ye34e**; token=78170255d11dafe230e69c6e57ab179a,3,963093; __jda=181111935.1728703232609782802814.1728703232.1732533363.1733567819.12; __jdc=181111935; jsavif=1; ipLoc-djd=12-904-907-50559; 3AB9D23F7A4B3C9B=ONLOV2B2HXL6T7KNQWMLQ6ZGFNYF5CKRMREQGDU7NA7XC47JZLD5CPPRMOA7IK26FAKRVJ4FQVODLJLEPMWIJ4SAJQ; 3AB9D23F7A4B3CSS=jdd03ONLOV2B2HXL6T7KNQWMLQ6ZGFNYF5CKRMREQGDU7NA7XC47JZLD5CPPRMOA7IK26FAKRVJ4FQVODLJLEPMWIJ4SAJQAAAAMTUC7YT6AAAAAAD6ZSWMTLWAFUCUX; __jdb=181111935.7.1728703232609782802814|12.1733567819; shshshfpb=BApXSbxy3o_ZAka7SGlhbAcl25tjkArSJBmLEfnxs9xJ1MtsOj4C2\u001b[39m\u001b[38;5;124m\"\u001b[39m\n\u001b[1;32m     17\u001b[0m }\n\u001b[0;32m---> 19\u001b[0m response \u001b[38;5;241m=\u001b[39m \u001b[43mrequests\u001b[49m\u001b[38;5;241;43m.\u001b[39;49m\u001b[43mget\u001b[49m\u001b[43m(\u001b[49m\u001b[43murl\u001b[49m\u001b[43m,\u001b[49m\u001b[43m \u001b[49m\u001b[43mheaders\u001b[49m\u001b[38;5;241;43m=\u001b[39;49m\u001b[43mheaders\u001b[49m\u001b[43m)\u001b[49m\n\u001b[1;32m     20\u001b[0m response\u001b[38;5;241m.\u001b[39mencoding \u001b[38;5;241m=\u001b[39m \u001b[38;5;124m'\u001b[39m\u001b[38;5;124mutf-8\u001b[39m\u001b[38;5;124m'\u001b[39m \n\u001b[1;32m     22\u001b[0m tree \u001b[38;5;241m=\u001b[39m html\u001b[38;5;241m.\u001b[39mfromstring(response\u001b[38;5;241m.\u001b[39mtext)\n",
      "File \u001b[0;32m~/PythonVenvs/bigdataProject/lib/python3.12/site-packages/requests/api.py:73\u001b[0m, in \u001b[0;36mget\u001b[0;34m(url, params, **kwargs)\u001b[0m\n\u001b[1;32m     62\u001b[0m \u001b[38;5;28;01mdef\u001b[39;00m \u001b[38;5;21mget\u001b[39m(url, params\u001b[38;5;241m=\u001b[39m\u001b[38;5;28;01mNone\u001b[39;00m, \u001b[38;5;241m*\u001b[39m\u001b[38;5;241m*\u001b[39mkwargs):\n\u001b[1;32m     63\u001b[0m \u001b[38;5;250m    \u001b[39m\u001b[38;5;124mr\u001b[39m\u001b[38;5;124;03m\"\"\"Sends a GET request.\u001b[39;00m\n\u001b[1;32m     64\u001b[0m \n\u001b[1;32m     65\u001b[0m \u001b[38;5;124;03m    :param url: URL for the new :class:`Request` object.\u001b[39;00m\n\u001b[0;32m   (...)\u001b[0m\n\u001b[1;32m     70\u001b[0m \u001b[38;5;124;03m    :rtype: requests.Response\u001b[39;00m\n\u001b[1;32m     71\u001b[0m \u001b[38;5;124;03m    \"\"\"\u001b[39;00m\n\u001b[0;32m---> 73\u001b[0m     \u001b[38;5;28;01mreturn\u001b[39;00m \u001b[43mrequest\u001b[49m\u001b[43m(\u001b[49m\u001b[38;5;124;43m\"\u001b[39;49m\u001b[38;5;124;43mget\u001b[39;49m\u001b[38;5;124;43m\"\u001b[39;49m\u001b[43m,\u001b[49m\u001b[43m \u001b[49m\u001b[43murl\u001b[49m\u001b[43m,\u001b[49m\u001b[43m \u001b[49m\u001b[43mparams\u001b[49m\u001b[38;5;241;43m=\u001b[39;49m\u001b[43mparams\u001b[49m\u001b[43m,\u001b[49m\u001b[43m \u001b[49m\u001b[38;5;241;43m*\u001b[39;49m\u001b[38;5;241;43m*\u001b[39;49m\u001b[43mkwargs\u001b[49m\u001b[43m)\u001b[49m\n",
      "File \u001b[0;32m~/PythonVenvs/bigdataProject/lib/python3.12/site-packages/requests/api.py:59\u001b[0m, in \u001b[0;36mrequest\u001b[0;34m(method, url, **kwargs)\u001b[0m\n\u001b[1;32m     55\u001b[0m \u001b[38;5;66;03m# By using the 'with' statement we are sure the session is closed, thus we\u001b[39;00m\n\u001b[1;32m     56\u001b[0m \u001b[38;5;66;03m# avoid leaving sockets open which can trigger a ResourceWarning in some\u001b[39;00m\n\u001b[1;32m     57\u001b[0m \u001b[38;5;66;03m# cases, and look like a memory leak in others.\u001b[39;00m\n\u001b[1;32m     58\u001b[0m \u001b[38;5;28;01mwith\u001b[39;00m sessions\u001b[38;5;241m.\u001b[39mSession() \u001b[38;5;28;01mas\u001b[39;00m session:\n\u001b[0;32m---> 59\u001b[0m     \u001b[38;5;28;01mreturn\u001b[39;00m \u001b[43msession\u001b[49m\u001b[38;5;241;43m.\u001b[39;49m\u001b[43mrequest\u001b[49m\u001b[43m(\u001b[49m\u001b[43mmethod\u001b[49m\u001b[38;5;241;43m=\u001b[39;49m\u001b[43mmethod\u001b[49m\u001b[43m,\u001b[49m\u001b[43m \u001b[49m\u001b[43murl\u001b[49m\u001b[38;5;241;43m=\u001b[39;49m\u001b[43murl\u001b[49m\u001b[43m,\u001b[49m\u001b[43m \u001b[49m\u001b[38;5;241;43m*\u001b[39;49m\u001b[38;5;241;43m*\u001b[39;49m\u001b[43mkwargs\u001b[49m\u001b[43m)\u001b[49m\n",
      "File \u001b[0;32m~/PythonVenvs/bigdataProject/lib/python3.12/site-packages/requests/sessions.py:589\u001b[0m, in \u001b[0;36mSession.request\u001b[0;34m(self, method, url, params, data, headers, cookies, files, auth, timeout, allow_redirects, proxies, hooks, stream, verify, cert, json)\u001b[0m\n\u001b[1;32m    584\u001b[0m send_kwargs \u001b[38;5;241m=\u001b[39m {\n\u001b[1;32m    585\u001b[0m     \u001b[38;5;124m\"\u001b[39m\u001b[38;5;124mtimeout\u001b[39m\u001b[38;5;124m\"\u001b[39m: timeout,\n\u001b[1;32m    586\u001b[0m     \u001b[38;5;124m\"\u001b[39m\u001b[38;5;124mallow_redirects\u001b[39m\u001b[38;5;124m\"\u001b[39m: allow_redirects,\n\u001b[1;32m    587\u001b[0m }\n\u001b[1;32m    588\u001b[0m send_kwargs\u001b[38;5;241m.\u001b[39mupdate(settings)\n\u001b[0;32m--> 589\u001b[0m resp \u001b[38;5;241m=\u001b[39m \u001b[38;5;28;43mself\u001b[39;49m\u001b[38;5;241;43m.\u001b[39;49m\u001b[43msend\u001b[49m\u001b[43m(\u001b[49m\u001b[43mprep\u001b[49m\u001b[43m,\u001b[49m\u001b[43m \u001b[49m\u001b[38;5;241;43m*\u001b[39;49m\u001b[38;5;241;43m*\u001b[39;49m\u001b[43msend_kwargs\u001b[49m\u001b[43m)\u001b[49m\n\u001b[1;32m    591\u001b[0m \u001b[38;5;28;01mreturn\u001b[39;00m resp\n",
      "File \u001b[0;32m~/PythonVenvs/bigdataProject/lib/python3.12/site-packages/requests/sessions.py:703\u001b[0m, in \u001b[0;36mSession.send\u001b[0;34m(self, request, **kwargs)\u001b[0m\n\u001b[1;32m    700\u001b[0m start \u001b[38;5;241m=\u001b[39m preferred_clock()\n\u001b[1;32m    702\u001b[0m \u001b[38;5;66;03m# Send the request\u001b[39;00m\n\u001b[0;32m--> 703\u001b[0m r \u001b[38;5;241m=\u001b[39m \u001b[43madapter\u001b[49m\u001b[38;5;241;43m.\u001b[39;49m\u001b[43msend\u001b[49m\u001b[43m(\u001b[49m\u001b[43mrequest\u001b[49m\u001b[43m,\u001b[49m\u001b[43m \u001b[49m\u001b[38;5;241;43m*\u001b[39;49m\u001b[38;5;241;43m*\u001b[39;49m\u001b[43mkwargs\u001b[49m\u001b[43m)\u001b[49m\n\u001b[1;32m    705\u001b[0m \u001b[38;5;66;03m# Total elapsed time of the request (approximately)\u001b[39;00m\n\u001b[1;32m    706\u001b[0m elapsed \u001b[38;5;241m=\u001b[39m preferred_clock() \u001b[38;5;241m-\u001b[39m start\n",
      "File \u001b[0;32m~/PythonVenvs/bigdataProject/lib/python3.12/site-packages/requests/adapters.py:698\u001b[0m, in \u001b[0;36mHTTPAdapter.send\u001b[0;34m(self, request, stream, timeout, verify, cert, proxies)\u001b[0m\n\u001b[1;32m    694\u001b[0m         \u001b[38;5;28;01mraise\u001b[39;00m ProxyError(e, request\u001b[38;5;241m=\u001b[39mrequest)\n\u001b[1;32m    696\u001b[0m     \u001b[38;5;28;01mif\u001b[39;00m \u001b[38;5;28misinstance\u001b[39m(e\u001b[38;5;241m.\u001b[39mreason, _SSLError):\n\u001b[1;32m    697\u001b[0m         \u001b[38;5;66;03m# This branch is for urllib3 v1.22 and later.\u001b[39;00m\n\u001b[0;32m--> 698\u001b[0m         \u001b[38;5;28;01mraise\u001b[39;00m SSLError(e, request\u001b[38;5;241m=\u001b[39mrequest)\n\u001b[1;32m    700\u001b[0m     \u001b[38;5;28;01mraise\u001b[39;00m \u001b[38;5;167;01mConnectionError\u001b[39;00m(e, request\u001b[38;5;241m=\u001b[39mrequest)\n\u001b[1;32m    702\u001b[0m \u001b[38;5;28;01mexcept\u001b[39;00m ClosedPoolError \u001b[38;5;28;01mas\u001b[39;00m e:\n",
      "\u001b[0;31mSSLError\u001b[0m: HTTPSConnectionPool(host='item.jd.com', port=443): Max retries exceeded with url: /100149709084.html (Caused by SSLError(SSLEOFError(8, 'EOF occurred in violation of protocol (_ssl.c:2406)')))"
     ]
    }
   ],
   "source": [
    "import random\n",
    "import requests # type: ignore\n",
    "from lxml import html # type: ignore\n",
    "from bs4 import BeautifulSoup # type: ignore\n",
    "import datetime\n",
    "from faker import Faker # type: ignore\n",
    "import pandas as pd # type: ignore\n",
    "\n",
    "fake = Faker('zh_CN')  # 使用中文数据\n",
    "\n",
    "url = \"https://item.jd.com/100149709084.html#none\"\n",
    "\n",
    "\n",
    "headers = {\n",
    "    \"User-Agent\": \"Mozilla/5.0 (Macintosh; Intel Mac OS X 10_15_7) AppleWebKit/537.36 (KHTML, like Gecko) Chrome/131.0.0.0 Safari/537.36\",\n",
    "    \"Cookie\": \"__jdu=1728703232609782802814; shshshfpa=b46700c2-e81f-b5b5-7bbf-8faf5fc40553-1720857953; shshshfpx=b46700c2-e81f-b5b5-7bbf-8faf5fc40553-1720857953; unpl=JF8EAJ5nNSttXkMEV08BEkdATA0GWwhdTR5XbmEMBA9QGFwNH1FOG0R7XlVdWBRLFx9sZBRUXFNOUw4YASsSEHteVVxcDEsRA21uNWRVUCVXSBtsGHwQBhAZbl4IexcCX2cDV1ReSlYGGQEcExhNVFdXXAtCFwZfZjVUW2h7ZAQrAysTIAAzVRNdDkgeBW5lBlZeX0pcAxIBEhMTQl1Rblw4SA; TrackID=1vnpRNeoMTYq-EYjd59mYpcs_ehTiK7MqsNtvEIgZNEmgEDyf4S0en0hzx188j4W7RIKC9OyBQtTyA3e2Ew0tDfp6uW1_lbhjXOGKTX--8gTeB5kkC5maWdJkQjkCZ9R0; thor=A845C60E3533A84D9EFE3A6890C355953C3CD9D6A0A8230B38D109F6B75A4883C969F0A537A37D8FB6420D9A37E9CC8B6AADBAD2CD6422A022A3920697C652CDAB7B7E30644C52A4BB30A61E2EC7F1FA706E5CCC515A3A7AEF5199BDCCC10CDB738580F93B4FB44E92BE6755092F07173C0AA9F85DEBF6045CDD9F962146422E; light_key=AASBKE7rOxgWQziEhC_QY6yaEjCWE9GiDdTNtgexuaMDug3RIXwESwZbee5zz3Kh0lAO6SGY; pinId=R_c6HPHHKeGtPVPmzXlKLg; pin=%E8%A1%97%E8%A7%921144; unick=aw4756ksd6ifid; _tp=4Skysd0XdN1Q4BoYBTWNKOOe0UOVH7vBlsgys%2B1cPMw%3D; _pst=%E8%A1%97%E8%A7%921144; __jdv=181111935|direct|-|none|-|1732533362977; PCSYCityID=CN_320000_320100_0; umc_count=1; areaId=12; source=PC; platform=pc; jsavif=1; flash=3_z4umOXdTelyA6YsJQmN5aO8DWBEeeMdYJsHZ80lQAiP44FfL1GWv9lHPNJjgqFa6PMUDSRjtdU8a5kh2-qct8vRmuaWprpOLaKQQy48DzGvVwExN7TPRtDlyiV-RowTSg6sGGhW9cksvPdzkHeN2gAzR36s9br2C9hs5huGR6Ye34e**; token=78170255d11dafe230e69c6e57ab179a,3,963093; __jda=181111935.1728703232609782802814.1728703232.1732533363.1733567819.12; __jdc=181111935; jsavif=1; ipLoc-djd=12-904-907-50559; 3AB9D23F7A4B3C9B=ONLOV2B2HXL6T7KNQWMLQ6ZGFNYF5CKRMREQGDU7NA7XC47JZLD5CPPRMOA7IK26FAKRVJ4FQVODLJLEPMWIJ4SAJQ; 3AB9D23F7A4B3CSS=jdd03ONLOV2B2HXL6T7KNQWMLQ6ZGFNYF5CKRMREQGDU7NA7XC47JZLD5CPPRMOA7IK26FAKRVJ4FQVODLJLEPMWIJ4SAJQAAAAMTUC7YT6AAAAAAD6ZSWMTLWAFUCUX; __jdb=181111935.7.1728703232609782802814|12.1733567819; shshshfpb=BApXSbxy3o_ZAka7SGlhbAcl25tjkArSJBmLEfnxs9xJ1MtsOj4C2\"\n",
    "}\n",
    "\n",
    "response = requests.get(url, headers=headers)\n",
    "response.encoding = 'utf-8' \n",
    "\n",
    "tree = html.fromstring(response.text)\n",
    "items = tree.xpath('//*[@id=\"comment\"]/div[2]/div[2]/div[2]/div')"
   ]
  },
  {
   "cell_type": "code",
   "execution_count": 15,
   "metadata": {},
   "outputs": [],
   "source": [
    "for item_list in items:\n",
    "    \n",
    "    for item in item_list:\n",
    "        print(item_list)\n",
    "        print(item.xpath('./div[2]/p/text()'))\n",
    "        break \n",
    "    break"
   ]
  },
  {
   "cell_type": "code",
   "execution_count": 3,
   "metadata": {},
   "outputs": [
    {
     "name": "stdout",
     "output_type": "stream",
     "text": [
      "均方误差 (MSE): 37.29\n",
      "R² 分数: 0.91\n",
      "交叉验证得分: -0.62\n",
      "未来几天的预测评论数: [136.91577114 138.10823133 138.28761066]\n"
     ]
    },
    {
     "name": "stderr",
     "output_type": "stream",
     "text": [
      "/Users/damon/PythonVenvs/bigdataProject/lib/python3.12/site-packages/sklearn/base.py:493: UserWarning: X does not have valid feature names, but StandardScaler was fitted with feature names\n",
      "  warnings.warn(\n"
     ]
    }
   ],
   "source": [
    "import numpy as np\n",
    "import pandas as pd\n",
    "import matplotlib.pyplot as plt\n",
    "from sklearn.linear_model import Ridge\n",
    "from sklearn.preprocessing import PolynomialFeatures, StandardScaler\n",
    "from sklearn.model_selection import train_test_split, cross_val_score\n",
    "from sklearn.metrics import mean_squared_error, r2_score\n",
    "\n",
    "# 1. 模拟数据生成\n",
    "np.random.seed(42)\n",
    "days = np.arange(1, 31)  # 30 天的数据\n",
    "comments = 50 + 3 * days + np.random.normal(0, 10, size=len(days))  # 评论数 = 50 + 3 * 天数 + 噪声\n",
    "\n",
    "# 将数据转换为 DataFrame\n",
    "data = pd.DataFrame({\n",
    "    'Day': days,\n",
    "    'Comments': comments\n",
    "})\n",
    "\n",
    "# 2. 特征工程：增加日期衍生特征（例如，天数对应的周几）\n",
    "data['Weekday'] = data['Day'] % 7  # 周几\n",
    "data['Day_of_month'] = data['Day'] % 30  # 月中的天数\n",
    "\n",
    "# 3. 准备数据\n",
    "X = data[['Day', 'Weekday', 'Day_of_month']]  # 特征：天数、周几、月中的天数\n",
    "y = data['Comments']  # 目标：评论数\n",
    "\n",
    "# 标准化特征\n",
    "scaler = StandardScaler()\n",
    "X_scaled = scaler.fit_transform(X)\n",
    "\n",
    "# 划分训练集和测试集\n",
    "X_train, X_test, y_train, y_test = train_test_split(X_scaled, y, test_size=0.2, random_state=42)\n",
    "\n",
    "# 4. 多项式回归\n",
    "poly = PolynomialFeatures(degree=3)  # 使用三次多项式特征\n",
    "X_poly_train = poly.fit_transform(X_train)\n",
    "X_poly_test = poly.transform(X_test)\n",
    "\n",
    "# 5. 训练带有岭回归的多项式回归模型\n",
    "model = Ridge(alpha=1.0)  # L2 正则化，防止过拟合\n",
    "model.fit(X_poly_train, y_train)\n",
    "\n",
    "# 6. 预测\n",
    "y_pred = model.predict(X_poly_test)\n",
    "\n",
    "# 7. 评估模型\n",
    "mse = mean_squared_error(y_test, y_pred)\n",
    "r2 = r2_score(y_test, y_pred)\n",
    "print(f\"均方误差 (MSE): {mse:.2f}\")\n",
    "print(f\"R² 分数: {r2:.2f}\")\n",
    "\n",
    "# 8. 交叉验证：评估模型的稳定性\n",
    "cross_val_score_mean = np.mean(cross_val_score(model, X_poly_train, y_train, cv=5))\n",
    "print(f\"交叉验证得分: {cross_val_score_mean:.2f}\")\n",
    "\n",
    "\n",
    "# 10. 预测未来几天的评论数\n",
    "future_days = np.array([[31, 31 % 7, 31 % 30], [32, 32 % 7, 32 % 30], [33, 33 % 7, 33 % 30]])  # 预测第 31、32、33 天的评论数\n",
    "future_days_scaled = scaler.transform(future_days)  # 标准化\n",
    "future_days_poly = poly.transform(future_days_scaled)  # 多项式特征转换\n",
    "future_comments = model.predict(future_days_poly)\n",
    "print(f\"未来几天的预测评论数: {future_comments}\")\n"
   ]
  },
  {
   "cell_type": "code",
   "execution_count": 6,
   "metadata": {},
   "outputs": [
    {
     "ename": "ElementNotFoundError",
     "evalue": "\n没有找到元素。\nmethod: ele()\nargs: {'locator': 'css:#detail > div.tab-main.large > ul > li:nth-child(5)', 'index': 1, 'timeout': 10}",
     "output_type": "error",
     "traceback": [
      "\u001b[0;31m---------------------------------------------------------------------------\u001b[0m",
      "\u001b[0;31mElementNotFoundError\u001b[0m                      Traceback (most recent call last)",
      "Cell \u001b[0;32mIn[6], line 12\u001b[0m\n\u001b[1;32m      9\u001b[0m dp\u001b[38;5;241m.\u001b[39mlisten\u001b[38;5;241m.\u001b[39mstart(\u001b[38;5;124m'\u001b[39m\u001b[38;5;124mapi.m.jd.com/?appid=item-v3&functionId=pc_club_productPageComments\u001b[39m\u001b[38;5;124m'\u001b[39m)\n\u001b[1;32m     10\u001b[0m dp\u001b[38;5;241m.\u001b[39mget(\u001b[38;5;124m\"\u001b[39m\u001b[38;5;124mhttps://item.jd.com/100149708972.html\u001b[39m\u001b[38;5;124m\"\u001b[39m)\n\u001b[0;32m---> 12\u001b[0m \u001b[43mdp\u001b[49m\u001b[38;5;241;43m.\u001b[39;49m\u001b[43mele\u001b[49m\u001b[43m(\u001b[49m\u001b[38;5;124;43m'\u001b[39;49m\u001b[38;5;124;43mcss:#detail > div.tab-main.large > ul > li:nth-child(5)\u001b[39;49m\u001b[38;5;124;43m'\u001b[39;49m\u001b[43m)\u001b[49m\u001b[38;5;241;43m.\u001b[39;49m\u001b[43mclick\u001b[49m()\n\u001b[1;32m     14\u001b[0m time\u001b[38;5;241m.\u001b[39msleep(\u001b[38;5;241m1\u001b[39m)\n\u001b[1;32m     15\u001b[0m \u001b[38;5;66;03m# dp.ele('css:#comment > div.mc > div.J-comments-list.comments-list.ETab > div.tab-main.small > ul > li:nth-child(5) > a').click()\u001b[39;00m\n",
      "File \u001b[0;32m~/PythonVenvs/bigdataProject/lib/python3.12/site-packages/DrissionPage/_elements/none_element.py:37\u001b[0m, in \u001b[0;36mNoneElement.__getattr__\u001b[0;34m(self, item)\u001b[0m\n\u001b[1;32m     35\u001b[0m \u001b[38;5;28;01mdef\u001b[39;00m \u001b[38;5;21m__getattr__\u001b[39m(\u001b[38;5;28mself\u001b[39m, item):\n\u001b[1;32m     36\u001b[0m     \u001b[38;5;28;01mif\u001b[39;00m \u001b[38;5;129;01mnot\u001b[39;00m \u001b[38;5;28mself\u001b[39m\u001b[38;5;241m.\u001b[39m_none_ele_return_value:\n\u001b[0;32m---> 37\u001b[0m         \u001b[38;5;28;01mraise\u001b[39;00m ElementNotFoundError(\u001b[38;5;28;01mNone\u001b[39;00m, \u001b[38;5;28mself\u001b[39m\u001b[38;5;241m.\u001b[39mmethod, \u001b[38;5;28mself\u001b[39m\u001b[38;5;241m.\u001b[39margs)\n\u001b[1;32m     38\u001b[0m     \u001b[38;5;28;01melif\u001b[39;00m item \u001b[38;5;129;01min\u001b[39;00m (\u001b[38;5;124m'\u001b[39m\u001b[38;5;124mele\u001b[39m\u001b[38;5;124m'\u001b[39m, \u001b[38;5;124m'\u001b[39m\u001b[38;5;124ms_ele\u001b[39m\u001b[38;5;124m'\u001b[39m, \u001b[38;5;124m'\u001b[39m\u001b[38;5;124mparent\u001b[39m\u001b[38;5;124m'\u001b[39m, \u001b[38;5;124m'\u001b[39m\u001b[38;5;124mchild\u001b[39m\u001b[38;5;124m'\u001b[39m, \u001b[38;5;124m'\u001b[39m\u001b[38;5;124mnext\u001b[39m\u001b[38;5;124m'\u001b[39m, \u001b[38;5;124m'\u001b[39m\u001b[38;5;124mprev\u001b[39m\u001b[38;5;124m'\u001b[39m, \u001b[38;5;124m'\u001b[39m\u001b[38;5;124mbefore\u001b[39m\u001b[38;5;124m'\u001b[39m, \u001b[38;5;124m'\u001b[39m\u001b[38;5;124meast\u001b[39m\u001b[38;5;124m'\u001b[39m, \u001b[38;5;124m'\u001b[39m\u001b[38;5;124mnorth\u001b[39m\u001b[38;5;124m'\u001b[39m, \u001b[38;5;124m'\u001b[39m\u001b[38;5;124msouth\u001b[39m\u001b[38;5;124m'\u001b[39m, \u001b[38;5;124m'\u001b[39m\u001b[38;5;124mwest\u001b[39m\u001b[38;5;124m'\u001b[39m,\n\u001b[1;32m     39\u001b[0m                   \u001b[38;5;124m'\u001b[39m\u001b[38;5;124moffset\u001b[39m\u001b[38;5;124m'\u001b[39m, \u001b[38;5;124m'\u001b[39m\u001b[38;5;124mover\u001b[39m\u001b[38;5;124m'\u001b[39m, \u001b[38;5;124m'\u001b[39m\u001b[38;5;124mafter\u001b[39m\u001b[38;5;124m'\u001b[39m, \u001b[38;5;124m'\u001b[39m\u001b[38;5;124mget_frame\u001b[39m\u001b[38;5;124m'\u001b[39m, \u001b[38;5;124m'\u001b[39m\u001b[38;5;124mshadow_root\u001b[39m\u001b[38;5;124m'\u001b[39m, \u001b[38;5;124m'\u001b[39m\u001b[38;5;124msr\u001b[39m\u001b[38;5;124m'\u001b[39m):\n\u001b[1;32m     40\u001b[0m         \u001b[38;5;28;01mreturn\u001b[39;00m \u001b[38;5;28mself\u001b[39m\n",
      "\u001b[0;31mElementNotFoundError\u001b[0m: \n没有找到元素。\nmethod: ele()\nargs: {'locator': 'css:#detail > div.tab-main.large > ul > li:nth-child(5)', 'index': 1, 'timeout': 10}"
     ]
    }
   ],
   "source": [
    "import os\n",
    "import time\n",
    "import pandas as pd\n",
    "from DrissionPage import ChromiumPage, ChromiumOptions\n",
    "\n",
    "\n",
    "dp = ChromiumPage()\n",
    "dp.scroll.to_bottom()\n",
    "dp.listen.start('api.m.jd.com/?appid=item-v3&functionId=pc_club_productPageComments')\n",
    "dp.get(\"https://item.jd.com/100149708972.html\")\n",
    "\n",
    "dp.ele('css:#detail > div.tab-main.large > ul > li:nth-child(5)').click()\n",
    "\n",
    "time.sleep(1)\n",
    "# dp.ele('css:#comment > div.mc > div.J-comments-list.comments-list.ETab > div.tab-main.small > ul > li:nth-child(5) > a').click()\n",
    "\n",
    "comment_dict = {\n",
    "    \"好评\": \"css:#comment > div.mc > div.J-comments-list.comments-list.ETab > div.tab-main.small > ul > li:nth-child(5) > a\",\n",
    "    # \"中评\": \"css:#comment > div.mc > div.J-comments-list.comments-list.ETab > div.tab-main.small > ul > li:nth-child(6) > a\",\n",
    "    # \"差评\": \"css:#comment > div.mc > div.J-comments-list.comments-list.ETab > div.tab-main.small > ul > li:nth-child(7) > a\"\n",
    "}\n",
    "\n",
    "result = []\n",
    "columns = [\"昵称\", \"日期\", \"地区\", \"产品\", \"评分\", \"评论\", \"标签\"]\n",
    "for key, value in comment_dict.items():\n",
    "    time.sleep(1)\n",
    "    dp.ele(value).click()\n",
    "    for page in range(1, 21):\n",
    "        print(f'正在爬取 - {key} - 第{page}页')\n",
    "        resp = dp.listen.wait()\n",
    "        json_data = resp.response.body \n",
    "        comments = json_data[\"comments\"]\n",
    "        for index in comments:\n",
    "            dit = {\n",
    "                \"昵称\": index[\"nickname\"],\n",
    "                \"日期\": index[\"creationTime\"],\n",
    "                \"地区\": index[\"location\"],\n",
    "                \"产品\": index[\"productColor\"],\n",
    "                \"评分\": index[\"score\"],\n",
    "                \"评论\": index[\"content\"].strip(),\n",
    "                '标签': key\n",
    "            }\n",
    "            result.append(dit)\n",
    "            print(dit)\n",
    "        time.sleep(8)\n",
    "        dp.ele('css:.ui-pager-next').click()\n",
    "        dp.scroll.to_bottom()\n",
    "        \n",
    "df = pd.DataFrame(result, columns=columns)\n",
    "df[\"评论\"] = df[\"评论\"].apply(lambda x: x.strip().replace('\\n', ''))\n",
    "df.to_csv(\"comment.csv\", index=False, mode='a')\n"
   ]
  }
 ],
 "metadata": {
  "kernelspec": {
   "display_name": "bigdataProject",
   "language": "python",
   "name": "python3"
  },
  "language_info": {
   "codemirror_mode": {
    "name": "ipython",
    "version": 3
   },
   "file_extension": ".py",
   "mimetype": "text/x-python",
   "name": "python",
   "nbconvert_exporter": "python",
   "pygments_lexer": "ipython3",
   "version": "3.12.1"
  }
 },
 "nbformat": 4,
 "nbformat_minor": 2
}
