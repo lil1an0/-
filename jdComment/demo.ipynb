{
 "cells": [
  {
   "cell_type": "code",
   "execution_count": 1,
   "metadata": {},
   "outputs": [],
   "source": [
    "#调用的包信息\n",
    "import re  \n",
    "import pickle\n",
    "import random\n",
    "import pandas as pd\n",
    "import numpy as np\n",
    "import jieba\n",
    "\n",
    "import matplotlib.pyplot as plt\n",
    "import seaborn as sns\n",
    "from wordcloud import WordCloud, STOPWORDS\n",
    "\n",
    "from sklearn.svm import SVC\n",
    "from sklearn import preprocessing, decomposition, model_selection, metrics, pipeline\n",
    "from sklearn.model_selection import GridSearchCV\n",
    "from sklearn.feature_extraction.text import TfidfVectorizer, CountVectorizer\n",
    "from sklearn.decomposition import TruncatedSVD\n",
    "from sklearn.linear_model import LogisticRegression\n",
    "from sklearn.model_selection import train_test_split\n",
    "from sklearn.metrics import classification_report\n",
    "from sklearn.naive_bayes import MultinomialNB as MNB\n",
    "from sklearn.model_selection import train_test_split"
   ]
  },
  {
   "cell_type": "code",
   "execution_count": 3,
   "metadata": {},
   "outputs": [],
   "source": [
    "with open('京东评论数据.csv', encoding='utf-8') as f:\n",
    "    data = pd.read_csv(f)"
   ]
  },
  {
   "cell_type": "code",
   "execution_count": 4,
   "metadata": {},
   "outputs": [
    {
     "name": "stdout",
     "output_type": "stream",
     "text": [
      "Data Overview:\n",
      "    sku_id                                   _id item_name   comment_id  \\\n",
      "0  7534113  03b51aa9-2b5e-41c3-a40b-343164a1d23a   comment  11801751173   \n",
      "1  7534113  03b51aa9-2b5e-41c3-a40b-343164a1d23a   comment  11525358140   \n",
      "2  7534113  03b51aa9-2b5e-41c3-a40b-343164a1d23a   comment  11787681311   \n",
      "3  8240587  082df194-97f0-425e-85ac-8596344114e6   comment  11726613552   \n",
      "\n",
      "                                             content        creation_time  \\\n",
      "0                                 还可以刷脸解锁，帮朋友买的，她很满意  2018-08-13 12:24:59   \n",
      "1  第一次买vivo，真心不错，1498的机子，没想到照相很清晰，性价比很高，买值了，还送了小音...  2018-05-27 17:49:17   \n",
      "2                                         手机好用快递送的快。  2018-08-09 07:17:37   \n",
      "3  手机收到。外观设计很好！美观大方。我喜欢！一直使用华为手机。从荣耀七，荣耀八，荣耀九。反正一...  2018-07-21 13:29:44   \n",
      "\n",
      "   reply_count  score  useful_vote_count  useless_vote_count  ...  \\\n",
      "0            0      5                  0                   0  ...   \n",
      "1            7      5                 19                   0  ...   \n",
      "2            0      5                  0                   0  ...   \n",
      "3            4      5                  8                   0  ...   \n",
      "\n",
      "   user_province  nickname user_level_name user_client  user_client_show  \\\n",
      "0            NaN     k***0          PLUS会员           2     来自京东iPhone客户端   \n",
      "1            NaN     呢***呐          PLUS会员           4    来自京东Android客户端   \n",
      "2            NaN     V***c            银牌会员           4    来自京东Android客户端   \n",
      "3            NaN     8***3            金牌会员           4    来自京东Android客户端   \n",
      "\n",
      "  is_mobile  days       reference_time after_days  after_user_comment  \n",
      "0       1.0   4.0  2018-08-09 13:38:15        0.0          NO_MESSAGE  \n",
      "1       1.0   5.0  2018-05-22 09:32:37        0.0          NO_MESSAGE  \n",
      "2       1.0   3.0  2018-08-06 18:45:59        0.0          NO_MESSAGE  \n",
      "3       1.0   1.0  2018-07-20 06:14:02        0.0          NO_MESSAGE  \n",
      "\n",
      "[4 rows x 21 columns]\n",
      "------------------------------\n",
      "Data Information\n",
      "<class 'pandas.core.frame.DataFrame'>\n",
      "RangeIndex: 3637 entries, 0 to 3636\n",
      "Data columns (total 21 columns):\n",
      " #   Column              Non-Null Count  Dtype  \n",
      "---  ------              --------------  -----  \n",
      " 0   sku_id              3637 non-null   int64  \n",
      " 1   _id                 3637 non-null   object \n",
      " 2   item_name           3637 non-null   object \n",
      " 3   comment_id          3637 non-null   int64  \n",
      " 4   content             3637 non-null   object \n",
      " 5   creation_time       3637 non-null   object \n",
      " 6   reply_count         3637 non-null   int64  \n",
      " 7   score               3637 non-null   int64  \n",
      " 8   useful_vote_count   3637 non-null   int64  \n",
      " 9   useless_vote_count  3637 non-null   int64  \n",
      " 10  user_level_id       3637 non-null   int64  \n",
      " 11  user_province       0 non-null      float64\n",
      " 12  nickname            3637 non-null   object \n",
      " 13  user_level_name     3637 non-null   object \n",
      " 14  user_client         3637 non-null   int64  \n",
      " 15  user_client_show    3462 non-null   object \n",
      " 16  is_mobile           3636 non-null   float64\n",
      " 17  days                3636 non-null   float64\n",
      " 18  reference_time      3636 non-null   object \n",
      " 19  after_days          3636 non-null   float64\n",
      " 20  after_user_comment  3636 non-null   object \n",
      "dtypes: float64(4), int64(8), object(9)\n",
      "memory usage: 596.8+ KB\n",
      "None\n",
      "----------------------------------------\n",
      "Data DESC:\n",
      "             sku_id    comment_id  reply_count        score  \\\n",
      "count  3.637000e+03  3.637000e+03  3637.000000  3637.000000   \n",
      "mean   7.936312e+09  1.161979e+10     6.291724     4.880946   \n",
      "std    1.165137e+10  2.520618e+08    41.624571     0.591341   \n",
      "min    1.592994e+06  1.045844e+10     0.000000     1.000000   \n",
      "25%    5.920651e+06  1.155459e+10     0.000000     5.000000   \n",
      "50%    7.651903e+06  1.174154e+10     0.000000     5.000000   \n",
      "75%    2.034912e+10  1.178850e+10     1.000000     5.000000   \n",
      "max    3.032369e+10  1.180889e+10  1355.000000     5.000000   \n",
      "\n",
      "       useful_vote_count  useless_vote_count  user_level_id  user_province  \\\n",
      "count        3637.000000              3637.0    3637.000000            0.0   \n",
      "mean           13.532307                 0.0      75.692329            NaN   \n",
      "std            72.564442                 0.0      21.125683            NaN   \n",
      "min             0.000000                 0.0      50.000000            NaN   \n",
      "25%             0.000000                 0.0      61.000000            NaN   \n",
      "50%             0.000000                 0.0      62.000000            NaN   \n",
      "75%             2.000000                 0.0     105.000000            NaN   \n",
      "max          2318.000000                 0.0     105.000000            NaN   \n",
      "\n",
      "       user_client    is_mobile         days   after_days  \n",
      "count  3637.000000  3636.000000  3636.000000  3636.000000  \n",
      "mean      4.480066     0.894114     9.451045     1.475248  \n",
      "std       4.644212     0.307733    13.169849     9.862867  \n",
      "min       0.000000     0.000000     0.000000     0.000000  \n",
      "25%       2.000000     1.000000     2.000000     0.000000  \n",
      "50%       4.000000     1.000000     4.000000     0.000000  \n",
      "75%       4.000000     1.000000    11.000000     0.000000  \n",
      "max      29.000000     1.000000   191.000000   191.000000  \n",
      "------------------------------------------------------------\n"
     ]
    }
   ],
   "source": [
    "def DataOverview(data):\n",
    "    print('Data Overview:')\n",
    "    print(data.head(4))\n",
    "    print('-'*30)\n",
    "    print('Data Information')\n",
    "    print(data.info())\n",
    "    print('-'*40)\n",
    "    print('Data DESC:')\n",
    "    print(data.describe())\n",
    "    print('-'*60)\n",
    "\n",
    "DataOverview(data)"
   ]
  },
  {
   "cell_type": "code",
   "execution_count": 5,
   "metadata": {},
   "outputs": [
    {
     "name": "stdout",
     "output_type": "stream",
     "text": [
      "NA Cols:\n",
      "sku_id                False\n",
      "_id                   False\n",
      "item_name             False\n",
      "comment_id            False\n",
      "content               False\n",
      "creation_time         False\n",
      "reply_count           False\n",
      "score                 False\n",
      "useful_vote_count     False\n",
      "useless_vote_count    False\n",
      "user_level_id         False\n",
      "user_province          True\n",
      "nickname              False\n",
      "user_level_name       False\n",
      "user_client           False\n",
      "user_client_show       True\n",
      "is_mobile              True\n",
      "days                   True\n",
      "reference_time         True\n",
      "after_days             True\n",
      "after_user_comment     True\n",
      "dtype: bool\n",
      "------------------------------\n",
      "NA Recors:\n",
      "Total number of NA lines is: 3637\n",
      "           sku_id                                   _id item_name  \\\n",
      "0         7534113  03b51aa9-2b5e-41c3-a40b-343164a1d23a   comment   \n",
      "1         7534113  03b51aa9-2b5e-41c3-a40b-343164a1d23a   comment   \n",
      "2         7534113  03b51aa9-2b5e-41c3-a40b-343164a1d23a   comment   \n",
      "3         8240587  082df194-97f0-425e-85ac-8596344114e6   comment   \n",
      "4         5942439  dce41ae6-aed6-480e-a4e2-705dfb515c71   comment   \n",
      "...           ...                                   ...       ...   \n",
      "3632      7651903  d4121721-d074-4fea-bc42-2e13c89be548   comment   \n",
      "3633  15612619462  8738387c-0409-47eb-9ff6-051b5801cc3d   comment   \n",
      "3634  11107032701  d0455136-69eb-4246-80d1-fa7c945347c4   comment   \n",
      "3635  29619588672  40e73e8f-611b-404b-89b9-7082f6a3840b   comment   \n",
      "3636      7846413  6143f244-717f-487f-9a6a-171642f54230   comment   \n",
      "\n",
      "       comment_id                                            content  \\\n",
      "0     11801751173                                 还可以刷脸解锁，帮朋友买的，她很满意   \n",
      "1     11525358140  第一次买vivo，真心不错，1498的机子，没想到照相很清晰，性价比很高，买值了，还送了小音...   \n",
      "2     11787681311                                         手机好用快递送的快。   \n",
      "3     11726613552  手机收到。外观设计很好！美观大方。我喜欢！一直使用华为手机。从荣耀七，荣耀八，荣耀九。反正一...   \n",
      "4     11795202075                  收到了，挺好的，声音大，电池大，好用发货速度快，非常满意，好好好。   \n",
      "...           ...                                                ...   \n",
      "3632  11807124270  经常用小米的手机，红米小米各类品牌买了好多个。红米6，这款手机配置好，运行很流畅，比我的小米...   \n",
      "3633  11785452614                          特别，手机电池抗用，屏幕没有划痕，这次购物非常满意   \n",
      "3634  11189385869                                     先用着，暂时不错。没有问题。   \n",
      "3635  11802613710                                         手机拍照不清晰，很朦   \n",
      "3636  11647138152                                        速度很快，用起来很舒服   \n",
      "\n",
      "            creation_time  reply_count  score  useful_vote_count  \\\n",
      "0     2018-08-13 12:24:59            0      5                  0   \n",
      "1     2018-05-27 17:49:17            7      5                 19   \n",
      "2     2018-08-09 07:17:37            0      5                  0   \n",
      "3     2018-07-21 13:29:44            4      5                  8   \n",
      "4     2018-08-11 11:51:26            0      5                  0   \n",
      "...                   ...          ...    ...                ...   \n",
      "3632  2018-08-14 23:39:11            0      5                  0   \n",
      "3633  2018-08-08 12:36:32            1      5                  0   \n",
      "3634  2018-01-25 16:38:45            0      5                  0   \n",
      "3635  2018-08-13 16:42:48            0      5                  0   \n",
      "3636  2018-06-27 13:22:08            0      5                  0   \n",
      "\n",
      "      useless_vote_count  ...  user_province  nickname user_level_name  \\\n",
      "0                      0  ...            NaN     k***0          PLUS会员   \n",
      "1                      0  ...            NaN     呢***呐          PLUS会员   \n",
      "2                      0  ...            NaN     V***c            银牌会员   \n",
      "3                      0  ...            NaN     8***3            金牌会员   \n",
      "4                      0  ...            NaN     勇***来            钻石会员   \n",
      "...                  ...  ...            ...       ...             ...   \n",
      "3632                   0  ...            NaN     1***m          PLUS会员   \n",
      "3633                   0  ...            NaN     j***2            铜牌会员   \n",
      "3634                   0  ...            NaN     二***5            金牌会员   \n",
      "3635                   0  ...            NaN     生***味            银牌会员   \n",
      "3636                   0  ...            NaN     心***神            银牌会员   \n",
      "\n",
      "     user_client  user_client_show is_mobile  days       reference_time  \\\n",
      "0              2     来自京东iPhone客户端       1.0   4.0  2018-08-09 13:38:15   \n",
      "1              4    来自京东Android客户端       1.0   5.0  2018-05-22 09:32:37   \n",
      "2              4    来自京东Android客户端       1.0   3.0  2018-08-06 18:45:59   \n",
      "3              4    来自京东Android客户端       1.0   1.0  2018-07-20 06:14:02   \n",
      "4              4    来自京东Android客户端       1.0   2.0  2018-08-09 15:02:19   \n",
      "...          ...               ...       ...   ...                  ...   \n",
      "3632           4    来自京东Android客户端       1.0   3.0  2018-08-11 21:48:51   \n",
      "3633           4    来自京东Android客户端       1.0   3.0  2018-08-05 15:17:18   \n",
      "3634           0               NaN       0.0  17.0  2018-01-08 11:21:00   \n",
      "3635           4    来自京东Android客户端       1.0  30.0  2018-07-14 00:38:39   \n",
      "3636           4                来自       NaN   NaN                  NaN   \n",
      "\n",
      "     after_days  after_user_comment  \n",
      "0           0.0          NO_MESSAGE  \n",
      "1           0.0          NO_MESSAGE  \n",
      "2           0.0          NO_MESSAGE  \n",
      "3           0.0          NO_MESSAGE  \n",
      "4           0.0          NO_MESSAGE  \n",
      "...         ...                 ...  \n",
      "3632        0.0          NO_MESSAGE  \n",
      "3633        0.0          NO_MESSAGE  \n",
      "3634       50.0          挺实用的。给家人用。  \n",
      "3635        0.0          NO_MESSAGE  \n",
      "3636        NaN                 NaN  \n",
      "\n",
      "[3637 rows x 21 columns]\n",
      "------------------------------------------------------------\n"
     ]
    }
   ],
   "source": [
    "#缺失值审核\n",
    "def MissingView(data):\n",
    "    na_cols = data.isnull().any(axis=0)  # 查看每一列是否具有缺失值\n",
    "    print ('NA Cols:')\n",
    "    print (na_cols)  # 查看具有缺失值的列\n",
    "    print ('-' * 30)\n",
    "    na_lines = data.isnull().any(axis=1)  # 查看每一行是否具有缺失值\n",
    "    print ('NA Recors:')\n",
    "    print ('Total number of NA lines is: {0}'.format(na_lines.sum()))  # 查看具有缺失值的行总记录数\n",
    "    print (data[na_lines])  # 只查看具有缺失值的行信息\n",
    "    print ('-' * 60)\n",
    "    \n",
    "MissingView(data)"
   ]
  },
  {
   "cell_type": "code",
   "execution_count": 6,
   "metadata": {},
   "outputs": [
    {
     "data": {
      "text/plain": [
       "<Axes: xlabel='score', ylabel='count'>"
      ]
     },
     "execution_count": 6,
     "metadata": {},
     "output_type": "execute_result"
    },
    {
     "data": {
      "image/png": "[encoded data removed]",
      "text/plain": [
       "<Figure size 640x480 with 1 Axes>"
      ]
     },
     "metadata": {},
     "output_type": "display_data"
    }
   ],
   "source": [
    "data['score'].value_counts()\n",
    "sns.countplot(data=data,x='score')"
   ]
  },
  {
   "cell_type": "code",
   "execution_count": 7,
   "metadata": {},
   "outputs": [],
   "source": [
    "#数据转化\n",
    "data['creation_time'] = pd.to_datetime(data['creation_time'])\n",
    "data['reference_time'] = pd.to_datetime(data['reference_time'])\n",
    "\n",
    "data['year'] = data.creation_time.dt.year\n",
    "data['month'] = data.creation_time.dt.month\n",
    "data['weekday'] = data.creation_time.dt.weekday\n",
    "data['hour'] = data.creation_time.dt.hour"
   ]
  },
  {
   "cell_type": "code",
   "execution_count": 8,
   "metadata": {},
   "outputs": [
    {
     "data": {
      "image/png": "[encoded data removed]",
      "text/plain": [
       "<Figure size 1400x400 with 1 Axes>"
      ]
     },
     "metadata": {},
     "output_type": "display_data"
    }
   ],
   "source": [
    "#观测每周评论数数据变化情况\n",
    "fig1, ax1=plt.subplots(figsize=(14,4))\n",
    "df=data.groupby(['hour', 'weekday']).count()['nickname'].unstack()\n",
    "df.plot(ax=ax1, style='-.')\n",
    "plt.show()"
   ]
  },
  {
   "cell_type": "code",
   "execution_count": 9,
   "metadata": {},
   "outputs": [
    {
     "data": {
      "text/plain": [
       "(0.0, 600.0)"
      ]
     },
     "execution_count": 9,
     "metadata": {},
     "output_type": "execute_result"
    },
    {
     "data": {
      "image/png": "[encoded data removed]",
      "text/plain": [
       "<Figure size 640x480 with 1 Axes>"
      ]
     },
     "metadata": {},
     "output_type": "display_data"
    }
   ],
   "source": [
    "#评论的长短可以看出评论者的认真程度\n",
    "data['content_len'] = data['content'].str.len()\n",
    "fig2, ax2=plt.subplots()\n",
    "sns.boxplot(x='score',y='content_len',data=data, ax=ax2)\n",
    "ax2.set_ylim(0,600)"
   ]
  },
  {
   "cell_type": "code",
   "execution_count": 39,
   "metadata": {},
   "outputs": [
    {
     "name": "stdout",
     "output_type": "stream",
     "text": [
      "<class 'pandas.core.frame.DataFrame'>\n",
      "RangeIndex: 3637 entries, 0 to 3636\n",
      "Data columns (total 2 columns):\n",
      " #   Column   Non-Null Count  Dtype \n",
      "---  ------   --------------  ----- \n",
      " 0   content  3637 non-null   object\n",
      " 1   score    3637 non-null   int64 \n",
      "dtypes: int64(1), object(1)\n",
      "memory usage: 57.0+ KB\n"
     ]
    }
   ],
   "source": [
    "#提取需处理的数据及标签\n",
    "data1 = data[['content', 'score']]\n",
    "data1.info()"
   ]
  },
  {
   "cell_type": "code",
   "execution_count": 41,
   "metadata": {},
   "outputs": [
    {
     "data": {
      "text/html": [
       "<div>\n",
       "<style scoped>\n",
       "    .dataframe tbody tr th:only-of-type {\n",
       "        vertical-align: middle;\n",
       "    }\n",
       "\n",
       "    .dataframe tbody tr th {\n",
       "        vertical-align: top;\n",
       "    }\n",
       "\n",
       "    .dataframe thead th {\n",
       "        text-align: right;\n",
       "    }\n",
       "</style>\n",
       "<table border=\"1\" class=\"dataframe\">\n",
       "  <thead>\n",
       "    <tr style=\"text-align: right;\">\n",
       "      <th></th>\n",
       "      <th>content</th>\n",
       "      <th>score</th>\n",
       "    </tr>\n",
       "  </thead>\n",
       "  <tbody>\n",
       "    <tr>\n",
       "      <th>0</th>\n",
       "      <td>还可以刷脸解锁，帮朋友买的，她很满意</td>\n",
       "      <td>5</td>\n",
       "    </tr>\n",
       "    <tr>\n",
       "      <th>1</th>\n",
       "      <td>第一次买vivo，真心不错，1498的机子，没想到照相很清晰，性价比很高，买值了，还送了小音...</td>\n",
       "      <td>5</td>\n",
       "    </tr>\n",
       "    <tr>\n",
       "      <th>2</th>\n",
       "      <td>手机好用快递送的快。</td>\n",
       "      <td>5</td>\n",
       "    </tr>\n",
       "    <tr>\n",
       "      <th>3</th>\n",
       "      <td>手机收到。外观设计很好！美观大方。我喜欢！一直使用华为手机。从荣耀七，荣耀八，荣耀九。反正一...</td>\n",
       "      <td>5</td>\n",
       "    </tr>\n",
       "    <tr>\n",
       "      <th>4</th>\n",
       "      <td>收到了，挺好的，声音大，电池大，好用发货速度快，非常满意，好好好。</td>\n",
       "      <td>5</td>\n",
       "    </tr>\n",
       "    <tr>\n",
       "      <th>...</th>\n",
       "      <td>...</td>\n",
       "      <td>...</td>\n",
       "    </tr>\n",
       "    <tr>\n",
       "      <th>3632</th>\n",
       "      <td>经常用小米的手机，红米小米各类品牌买了好多个。红米6，这款手机配置好，运行很流畅，比我的小米...</td>\n",
       "      <td>5</td>\n",
       "    </tr>\n",
       "    <tr>\n",
       "      <th>3633</th>\n",
       "      <td>特别，手机电池抗用，屏幕没有划痕，这次购物非常满意</td>\n",
       "      <td>5</td>\n",
       "    </tr>\n",
       "    <tr>\n",
       "      <th>3634</th>\n",
       "      <td>先用着，暂时不错。没有问题。</td>\n",
       "      <td>5</td>\n",
       "    </tr>\n",
       "    <tr>\n",
       "      <th>3635</th>\n",
       "      <td>手机拍照不清晰，很朦</td>\n",
       "      <td>5</td>\n",
       "    </tr>\n",
       "    <tr>\n",
       "      <th>3636</th>\n",
       "      <td>速度很快，用起来很舒服</td>\n",
       "      <td>5</td>\n",
       "    </tr>\n",
       "  </tbody>\n",
       "</table>\n",
       "<p>3637 rows × 2 columns</p>\n",
       "</div>"
      ],
      "text/plain": [
       "                                                content  score\n",
       "0                                    还可以刷脸解锁，帮朋友买的，她很满意      5\n",
       "1     第一次买vivo，真心不错，1498的机子，没想到照相很清晰，性价比很高，买值了，还送了小音...      5\n",
       "2                                            手机好用快递送的快。      5\n",
       "3     手机收到。外观设计很好！美观大方。我喜欢！一直使用华为手机。从荣耀七，荣耀八，荣耀九。反正一...      5\n",
       "4                     收到了，挺好的，声音大，电池大，好用发货速度快，非常满意，好好好。      5\n",
       "...                                                 ...    ...\n",
       "3632  经常用小米的手机，红米小米各类品牌买了好多个。红米6，这款手机配置好，运行很流畅，比我的小米...      5\n",
       "3633                          特别，手机电池抗用，屏幕没有划痕，这次购物非常满意      5\n",
       "3634                                     先用着，暂时不错。没有问题。      5\n",
       "3635                                         手机拍照不清晰，很朦      5\n",
       "3636                                        速度很快，用起来很舒服      5\n",
       "\n",
       "[3637 rows x 2 columns]"
      ]
     },
     "execution_count": 41,
     "metadata": {},
     "output_type": "execute_result"
    }
   ],
   "source": [
    "data1"
   ]
  },
  {
   "cell_type": "code",
   "execution_count": null,
   "metadata": {},
   "outputs": [
    {
     "name": "stdout",
     "output_type": "stream",
     "text": [
      "贝叶斯分类器20折交叉验证得分:  0.42279435577145497\n"
     ]
    }
   ],
   "source": [
    "#获取停用词\n",
    "with open(r'哈工大停用词表.txt', encoding='utf-8') as file:\n",
    "    word_list = [x.strip() for x in file.readlines()]\n",
    "\n",
    "def SetLabel(score):\n",
    "    if score >=4:\n",
    "        return 1 \n",
    "    else:\n",
    "        return 0\n",
    "    \n",
    "data1['score'] = data1['score'].map(lambda x:SetLabel(x))\n",
    "\n",
    "# 分词函数\n",
    "data1['seg_words'] = data1['content'].apply(lambda x: ' '.join(jieba.cut(x)))\n",
    "\n",
    "\n",
    "#数据集拆分为语料、标签\n",
    "terms = data1['seg_words'].tolist()\n",
    "y = data1['score'].tolist()\n",
    "\n",
    "from sklearn.feature_extraction.text import TfidfVectorizer as TFIV\n",
    "\n",
    "# 初始化TFIV对象，去停用词，加2元语言模型\n",
    "tfv = TFIV(min_df=3,  max_features=None, strip_accents='unicode', analyzer='word', token_pattern=r'\\w{1,}',\n",
    "           ngram_range=(1, 2), use_idf=True, smooth_idf=True, sublinear_tf=True, stop_words=word_list)  \n",
    "\n",
    "tfv.fit(terms)\n",
    "X_all = tfv.transform(terms)\n",
    "\n",
    "\n",
    "\n",
    "#特征选择\n",
    "from sklearn.feature_selection import SelectKBest, chi2\n",
    "select_feature_model = SelectKBest(chi2, k=100)    ##卡方检验来选择100个最佳特征\n",
    "X_all = select_feature_model.fit_transform(X_all, y)  #减少特征的数量，达到降维的效果，从而使模型的方法能力更强，降低过拟合的风险\n",
    "\n",
    "#切分测试集、训练集\n",
    "from sklearn.model_selection import train_test_split\n",
    "x_train, x_test, y_train, y_test = train_test_split(X_all, y, random_state=0, test_size=0.25)\n",
    "\n",
    "model_NB = MNB()\n",
    "model_NB.fit(x_train, y_train) #特征数据直接灌进来\n",
    "MNB(alpha=1.0, class_prior=None, fit_prior=True) # ”alpha“是平滑参数，不需要掌握哈。\n",
    "\n",
    "from sklearn.model_selection import cross_val_score\n",
    "#评估预测性能，减少过拟合\n",
    "print(\"贝叶斯分类器20折交叉验证得分: \", np.mean(cross_val_score(model_NB, x_train, y_train, cv=20, scoring='roc_auc')))"
   ]
  },
  {
   "cell_type": "code",
   "execution_count": 26,
   "metadata": {},
   "outputs": [
    {
     "data": {
      "text/plain": [
       "array([[  0,  26],\n",
       "       [  0, 884]])"
      ]
     },
     "execution_count": 26,
     "metadata": {},
     "output_type": "execute_result"
    }
   ],
   "source": [
    "from sklearn.metrics import confusion_matrix\n",
    "y_predict = model_NB.predict(x_test)\n",
    "cm = confusion_matrix(y_test, y_predict)\n",
    "cm"
   ]
  },
  {
   "cell_type": "code",
   "execution_count": 30,
   "metadata": {},
   "outputs": [
    {
     "name": "stderr",
     "output_type": "stream",
     "text": [
      "/Users/damon/PythonVenvs/bigdataProject/lib/python3.12/site-packages/sklearn/feature_extraction/text.py:406: UserWarning: Your stop_words may be inconsistent with your preprocessing. Tokenizing the stop words generated tokens ['0', '1', '10', '11', '12', '13', '14', '15', '16', '17', '18', '19', '1a', '1b', '1c', '1d', '1e', '1f', '1g', '1h', '1i', '1o', '2', '21', '210', '22', '23', '24', '25', '26', '27', '28', '2a', '2b', '2c', '2d', '2e', '2f', '2g', '2h', '2i', '2j', '3', '31', '310', '3a', '3b', '3c', '3d', '3e', '3f', '3g', '3h', '4', '4a', '4b', '4c', '4d', '4e', '5', '5a', '5b', '5d', '5e', '5f', '6', '7', '8', '9', 'C', '_', 'a', 'b', 'c', 'e', 'f', 'iii', 'l', 'lex', 'li', 'ng昉', 'r', 'zxfitl', 'β', 'δ', 'λ', 'ξ', 'ψ', 'в', '元', '八', '吨', '数', '日', '末'] not in stop_words.\n",
      "  warnings.warn(\n"
     ]
    },
    {
     "name": "stdout",
     "output_type": "stream",
     "text": [
      "Epoch 1/10\n"
     ]
    },
    {
     "name": "stderr",
     "output_type": "stream",
     "text": [
      "/Users/damon/PythonVenvs/bigdataProject/lib/python3.12/site-packages/keras/src/layers/core/dense.py:87: UserWarning: Do not pass an `input_shape`/`input_dim` argument to a layer. When using Sequential models, prefer using an `Input(shape)` object as the first layer in the model instead.\n",
      "  super().__init__(activity_regularizer=activity_regularizer, **kwargs)\n"
     ]
    },
    {
     "name": "stdout",
     "output_type": "stream",
     "text": [
      "\u001b[1m46/46\u001b[0m \u001b[32m━━━━━━━━━━━━━━━━━━━━\u001b[0m\u001b[37m\u001b[0m \u001b[1m1s\u001b[0m 13ms/step - accuracy: 0.9045 - loss: 0.3920 - val_accuracy: 0.9643 - val_loss: 0.1566\n",
      "Epoch 2/10\n",
      "\u001b[1m46/46\u001b[0m \u001b[32m━━━━━━━━━━━━━━━━━━━━\u001b[0m\u001b[37m\u001b[0m \u001b[1m0s\u001b[0m 11ms/step - accuracy: 0.9696 - loss: 0.1088 - val_accuracy: 0.9629 - val_loss: 0.1570\n",
      "Epoch 3/10\n",
      "\u001b[1m46/46\u001b[0m \u001b[32m━━━━━━━━━━━━━━━━━━━━\u001b[0m\u001b[37m\u001b[0m \u001b[1m1s\u001b[0m 14ms/step - accuracy: 0.9784 - loss: 0.0575 - val_accuracy: 0.9560 - val_loss: 0.1609\n",
      "Epoch 4/10\n",
      "\u001b[1m46/46\u001b[0m \u001b[32m━━━━━━━━━━━━━━━━━━━━\u001b[0m\u001b[37m\u001b[0m \u001b[1m1s\u001b[0m 14ms/step - accuracy: 0.9956 - loss: 0.0162 - val_accuracy: 0.9629 - val_loss: 0.2122\n",
      "Epoch 5/10\n",
      "\u001b[1m46/46\u001b[0m \u001b[32m━━━━━━━━━━━━━━━━━━━━\u001b[0m\u001b[37m\u001b[0m \u001b[1m1s\u001b[0m 13ms/step - accuracy: 0.9970 - loss: 0.0186 - val_accuracy: 0.9437 - val_loss: 0.2323\n",
      "Epoch 6/10\n",
      "\u001b[1m46/46\u001b[0m \u001b[32m━━━━━━━━━━━━━━━━━━━━\u001b[0m\u001b[37m\u001b[0m \u001b[1m1s\u001b[0m 25ms/step - accuracy: 0.9975 - loss: 0.0099 - val_accuracy: 0.9574 - val_loss: 0.2368\n",
      "Epoch 7/10\n",
      "\u001b[1m46/46\u001b[0m \u001b[32m━━━━━━━━━━━━━━━━━━━━\u001b[0m\u001b[37m\u001b[0m \u001b[1m1s\u001b[0m 13ms/step - accuracy: 0.9979 - loss: 0.0122 - val_accuracy: 0.9478 - val_loss: 0.2586\n",
      "Epoch 8/10\n",
      "\u001b[1m46/46\u001b[0m \u001b[32m━━━━━━━━━━━━━━━━━━━━\u001b[0m\u001b[37m\u001b[0m \u001b[1m1s\u001b[0m 11ms/step - accuracy: 0.9982 - loss: 0.0101 - val_accuracy: 0.9505 - val_loss: 0.2594\n",
      "Epoch 9/10\n",
      "\u001b[1m46/46\u001b[0m \u001b[32m━━━━━━━━━━━━━━━━━━━━\u001b[0m\u001b[37m\u001b[0m \u001b[1m1s\u001b[0m 19ms/step - accuracy: 0.9982 - loss: 0.0233 - val_accuracy: 0.9451 - val_loss: 0.2732\n",
      "Epoch 10/10\n",
      "\u001b[1m46/46\u001b[0m \u001b[32m━━━━━━━━━━━━━━━━━━━━\u001b[0m\u001b[37m\u001b[0m \u001b[1m1s\u001b[0m 14ms/step - accuracy: 0.9951 - loss: 0.0160 - val_accuracy: 0.9437 - val_loss: 0.2826\n",
      "\u001b[1m23/23\u001b[0m \u001b[32m━━━━━━━━━━━━━━━━━━━━\u001b[0m\u001b[37m\u001b[0m \u001b[1m0s\u001b[0m 3ms/step - accuracy: 0.9502 - loss: 0.2566\n",
      "Test Loss: 0.28257134556770325\n",
      "Test Accuracy: 0.9436812996864319\n",
      "\u001b[1m23/23\u001b[0m \u001b[32m━━━━━━━━━━━━━━━━━━━━\u001b[0m\u001b[37m\u001b[0m \u001b[1m0s\u001b[0m 3ms/step\n"
     ]
    }
   ],
   "source": [
    "import numpy as np\n",
    "from sklearn.model_selection import train_test_split\n",
    "from sklearn.preprocessing import StandardScaler\n",
    "from sklearn.feature_extraction.text import TfidfVectorizer\n",
    "from tensorflow.keras.models import Sequential\n",
    "from tensorflow.keras.layers import Dense, Dropout\n",
    "from tensorflow.keras.optimizers import Adam\n",
    "\n",
    "# 数据准备\n",
    "terms = data1['seg_words'].tolist()\n",
    "y = data1['score'].tolist()\n",
    "\n",
    "# 将文本数据转换为TF-IDF特征\n",
    "tfv = TfidfVectorizer(min_df=3, max_features=5000, strip_accents='unicode', analyzer='word', \n",
    "                      token_pattern=r'\\w{1,}', ngram_range=(1, 2), use_idf=True, smooth_idf=True, \n",
    "                      sublinear_tf=True, stop_words=word_list)\n",
    "\n",
    "X = tfv.fit_transform(terms).toarray()  # 将TF-IDF结果转为数组\n",
    "\n",
    "# 数据标准化（有助于神经网络收敛）\n",
    "scaler = StandardScaler()\n",
    "X_scaled = scaler.fit_transform(X)\n",
    "\n",
    "# 数据集拆分为训练集和测试集\n",
    "X_train, X_test, y_train, y_test = train_test_split(X_scaled, y, test_size=0.2, random_state=42)\n",
    "\n",
    "# 建立神经网络模型\n",
    "model = Sequential()\n",
    "\n",
    "# 添加输入层和隐藏层\n",
    "model.add(Dense(512, input_dim=X_train.shape[1], activation='relu'))  # 512个神经元的隐藏层\n",
    "model.add(Dropout(0.5))  # Dropout层，避免过拟合\n",
    "model.add(Dense(256, activation='relu'))  # 256个神经元的隐藏层\n",
    "model.add(Dropout(0.5))\n",
    "\n",
    "# 添加输出层\n",
    "model.add(Dense(1, activation='sigmoid'))  # 如果是回归问题，可以改为linear激活函数\n",
    "\n",
    "# 编译模型\n",
    "model.compile(loss='binary_crossentropy',  # 如果是回归问题，使用mean_squared_error\n",
    "              optimizer='adam',\n",
    "              metrics=['accuracy'])\n",
    "\n",
    "# 训练模型\n",
    "history = model.fit(X_train, np.array(y_train), epochs=10, batch_size=64, validation_data=(X_test, np.array(y_test)))\n",
    "\n",
    "# 评估模型\n",
    "loss, accuracy = model.evaluate(X_test, np.array(y_test))\n",
    "print(f\"Test Loss: {loss}\")\n",
    "print(f\"Test Accuracy: {accuracy}\")\n",
    "\n",
    "# 使用模型进行预测\n",
    "y_pred = model.predict(X_test)\n"
   ]
  },
  {
   "cell_type": "code",
   "execution_count": 38,
   "metadata": {},
   "outputs": [
    {
     "name": "stdout",
     "output_type": "stream",
     "text": [
      "\u001b[1m1/1\u001b[0m \u001b[32m━━━━━━━━━━━━━━━━━━━━\u001b[0m\u001b[37m\u001b[0m \u001b[1m0s\u001b[0m 18ms/step\n",
      "[[0.5307586]]\n",
      "预测结果：好评\n"
     ]
    }
   ],
   "source": [
    "import jieba\n",
    "import numpy as np\n",
    "from sklearn.feature_extraction.text import TfidfVectorizer\n",
    "from tensorflow.keras.models import load_model  # 假设你已经保存了训练好的模型\n",
    "import tensorflow as tf\n",
    "\n",
    "# 加载训练好的模型\n",
    "# model = load_model('path_to_your_trained_model.h5')\n",
    "\n",
    "# 假设已经有训练好的 TF-IDF 矩阵转换器\n",
    "# tfv = TfidfVectorizer(min_df=3, max_features=5000, strip_accents='unicode', analyzer='word', \n",
    "#                       token_pattern=r'\\w{1,}', ngram_range=(1, 2), use_idf=True, smooth_idf=True, \n",
    "#                       sublinear_tf=True, stop_words=word_list)\n",
    "\n",
    "# 假设你已经训练过了 TF-IDF，下面使用该转换器来进行预测\n",
    "\n",
    "# 输入的中文文本\n",
    "input_text = \"差评\"\n",
    "\n",
    "# 1. 分词\n",
    "def chinese_cut(text):\n",
    "    return \" \".join(jieba.cut(text))\n",
    "\n",
    "# 2. 文本预处理：分词并转换为TF-IDF特征\n",
    "seg_text = chinese_cut(input_text)  # 分词\n",
    "X_input = tfv.transform([seg_text]).toarray()  # 转换为TF-IDF特征\n",
    "\n",
    "# 3. 使用模型进行预测（假设你是二分类问题）\n",
    "y_pred_prob = model.predict(X_input)  # 返回预测概率\n",
    "\n",
    "# 4. 根据概率进行分类（假设是二分类，阈值为0.5）\n",
    "y_pred_label = (y_pred_prob > 0.5).astype(int)  # 0为差评，1为好评\n",
    "print(y_pred_prob)\n",
    "# 输出预测结果\n",
    "if y_pred_label == 1:\n",
    "    print(\"预测结果：好评\")\n",
    "else:\n",
    "    print(\"预测结果：差评\")"
   ]
  },
  {
   "cell_type": "code",
   "execution_count": 47,
   "metadata": {},
   "outputs": [
    {
     "name": "stdout",
     "output_type": "stream",
     "text": [
      "Epoch 1/10\n"
     ]
    },
    {
     "name": "stderr",
     "output_type": "stream",
     "text": [
      "/Users/damon/PythonVenvs/bigdataProject/lib/python3.12/site-packages/keras/src/layers/core/embedding.py:90: UserWarning: Argument `input_length` is deprecated. Just remove it.\n",
      "  warnings.warn(\n"
     ]
    },
    {
     "name": "stdout",
     "output_type": "stream",
     "text": [
      "\u001b[1m1/1\u001b[0m \u001b[32m━━━━━━━━━━━━━━━━━━━━\u001b[0m\u001b[37m\u001b[0m \u001b[1m2s\u001b[0m 2s/step - accuracy: 0.6667 - loss: 1.0872 - val_accuracy: 0.0000e+00 - val_loss: 1.0992\n",
      "Epoch 2/10\n",
      "\u001b[1m1/1\u001b[0m \u001b[32m━━━━━━━━━━━━━━━━━━━━\u001b[0m\u001b[37m\u001b[0m \u001b[1m0s\u001b[0m 65ms/step - accuracy: 0.6667 - loss: 1.0547 - val_accuracy: 0.0000e+00 - val_loss: 1.1071\n",
      "Epoch 3/10\n",
      "\u001b[1m1/1\u001b[0m \u001b[32m━━━━━━━━━━━━━━━━━━━━\u001b[0m\u001b[37m\u001b[0m \u001b[1m0s\u001b[0m 106ms/step - accuracy: 0.6667 - loss: 1.0227 - val_accuracy: 0.0000e+00 - val_loss: 1.1159\n",
      "Epoch 4/10\n",
      "\u001b[1m1/1\u001b[0m \u001b[32m━━━━━━━━━━━━━━━━━━━━\u001b[0m\u001b[37m\u001b[0m \u001b[1m0s\u001b[0m 48ms/step - accuracy: 0.6667 - loss: 0.9794 - val_accuracy: 0.0000e+00 - val_loss: 1.1341\n",
      "Epoch 5/10\n",
      "\u001b[1m1/1\u001b[0m \u001b[32m━━━━━━━━━━━━━━━━━━━━\u001b[0m\u001b[37m\u001b[0m \u001b[1m0s\u001b[0m 50ms/step - accuracy: 0.6667 - loss: 0.9288 - val_accuracy: 0.0000e+00 - val_loss: 1.1679\n",
      "Epoch 6/10\n",
      "\u001b[1m1/1\u001b[0m \u001b[32m━━━━━━━━━━━━━━━━━━━━\u001b[0m\u001b[37m\u001b[0m \u001b[1m0s\u001b[0m 46ms/step - accuracy: 0.6667 - loss: 0.8535 - val_accuracy: 0.0000e+00 - val_loss: 1.2184\n",
      "Epoch 7/10\n",
      "\u001b[1m1/1\u001b[0m \u001b[32m━━━━━━━━━━━━━━━━━━━━\u001b[0m\u001b[37m\u001b[0m \u001b[1m0s\u001b[0m 49ms/step - accuracy: 0.6667 - loss: 0.8615 - val_accuracy: 0.0000e+00 - val_loss: 1.2884\n",
      "Epoch 8/10\n",
      "\u001b[1m1/1\u001b[0m \u001b[32m━━━━━━━━━━━━━━━━━━━━\u001b[0m\u001b[37m\u001b[0m \u001b[1m0s\u001b[0m 50ms/step - accuracy: 0.6667 - loss: 0.7852 - val_accuracy: 0.0000e+00 - val_loss: 1.3726\n",
      "Epoch 9/10\n",
      "\u001b[1m1/1\u001b[0m \u001b[32m━━━━━━━━━━━━━━━━━━━━\u001b[0m\u001b[37m\u001b[0m \u001b[1m0s\u001b[0m 54ms/step - accuracy: 0.6667 - loss: 0.8721 - val_accuracy: 0.0000e+00 - val_loss: 1.4400\n",
      "Epoch 10/10\n",
      "\u001b[1m1/1\u001b[0m \u001b[32m━━━━━━━━━━━━━━━━━━━━\u001b[0m\u001b[37m\u001b[0m \u001b[1m0s\u001b[0m 51ms/step - accuracy: 0.6667 - loss: 0.8060 - val_accuracy: 0.0000e+00 - val_loss: 1.4696\n",
      "测试集准确率：0.00\n",
      "\u001b[1m1/1\u001b[0m \u001b[32m━━━━━━━━━━━━━━━━━━━━\u001b[0m\u001b[37m\u001b[0m \u001b[1m0s\u001b[0m 119ms/step\n",
      "0\n",
      "预测结果： 差评\n"
     ]
    }
   ],
   "source": [
    "import pandas as pd\n",
    "import numpy as np\n",
    "import jieba\n",
    "from sklearn.model_selection import train_test_split\n",
    "from tensorflow.keras.preprocessing.text import Tokenizer\n",
    "from tensorflow.keras.preprocessing.sequence import pad_sequences\n",
    "from tensorflow.keras.models import Sequential\n",
    "from tensorflow.keras.layers import Embedding, LSTM, Dense, Bidirectional, Dropout\n",
    "from tensorflow.keras.optimizers import Adam\n",
    "\n",
    "# 1. 数据加载\n",
    "data = pd.DataFrame({\n",
    "    \"content\": [\n",
    "        \"第一次买vivo，真心不错，性价比很高，买值了。\",\n",
    "        \"手机收到。外观设计很好！我喜欢！\",\n",
    "        \"经常用小米的手机，红米性价比非常高。\",\n",
    "        \"特别，手机电池抗用，这次购物非常满意。\",\n",
    "        \"这个手机真的很差，用了一天就卡了，失望！\",\n",
    "        \"外壳设计不行，按键很松动，用起来很别扭。\",\n",
    "        \"性价比真的很高，运行流畅，发货速度快！\",\n",
    "        \"垃圾手机，拍照像素很差，用一天就坏了。\",\n",
    "        \"买给朋友的，朋友很满意，说很流畅！\",\n",
    "        \"发货速度很慢，客服态度也不好，不满意。\"\n",
    "    ],\n",
    "    \"score\": [5, 5, 5, 5, 1, 2, 5, 1, 5, 2]\n",
    "})\n",
    "\n",
    "# 2. 数据预处理\n",
    "# 根据 score 划分情感（例如：1~2 为差评，3 为中评，4~5 为好评）\n",
    "def sentiment_label(score):\n",
    "    if score >= 4:\n",
    "        return 2  # 好评\n",
    "    elif score == 3:\n",
    "        return 1  # 中评\n",
    "    else:\n",
    "        return 0  # 差评\n",
    "\n",
    "data[\"sentiment\"] = data[\"score\"].apply(sentiment_label)\n",
    "\n",
    "# 分词\n",
    "def chinese_cut(text):\n",
    "    return \" \".join(jieba.cut(text))\n",
    "\n",
    "data[\"content_cut\"] = data[\"content\"].apply(chinese_cut)\n",
    "\n",
    "# 3. 准备数据集\n",
    "X = data[\"content_cut\"].values\n",
    "y = data[\"sentiment\"].values\n",
    "\n",
    "# 将数据分为训练集和测试集\n",
    "X_train, X_test, y_train, y_test = train_test_split(X, y, test_size=0.2, random_state=42)\n",
    "\n",
    "# 4. Tokenizer 和序列化\n",
    "tokenizer = Tokenizer(num_words=5000)  # 最多保留 5000 个词\n",
    "tokenizer.fit_on_texts(X_train)\n",
    "\n",
    "X_train_seq = tokenizer.texts_to_sequences(X_train)\n",
    "X_test_seq = tokenizer.texts_to_sequences(X_test)\n",
    "\n",
    "# 填充序列，使所有序列长度相同\n",
    "maxlen = 50  # 句子最大长度（可以根据需要调整）\n",
    "X_train_pad = pad_sequences(X_train_seq, maxlen=maxlen, padding=\"post\")\n",
    "X_test_pad = pad_sequences(X_test_seq, maxlen=maxlen, padding=\"post\")\n",
    "\n",
    "# 5. 构建神经网络模型（LSTM）\n",
    "model = Sequential([\n",
    "    Embedding(input_dim=5000, output_dim=128, input_length=maxlen),  # 词嵌入层\n",
    "    Bidirectional(LSTM(64, return_sequences=False)),  # 双向 LSTM\n",
    "    Dropout(0.5),  # 防止过拟合\n",
    "    Dense(64, activation='relu'),\n",
    "    Dense(3, activation='softmax')  # 输出层（3 类：好评、中评、差评）\n",
    "])\n",
    "\n",
    "# 6. 编译模型\n",
    "model.compile(\n",
    "    optimizer=Adam(learning_rate=0.001),\n",
    "    loss='sparse_categorical_crossentropy',  # 多分类交叉熵\n",
    "    metrics=['accuracy']\n",
    ")\n",
    "\n",
    "# 7. 模型训练\n",
    "history = model.fit(\n",
    "    X_train_pad, y_train,\n",
    "    validation_split=0.2,\n",
    "    epochs=10,\n",
    "    batch_size=32,\n",
    "    verbose=1\n",
    ")\n",
    "\n",
    "# 8. 模型评估\n",
    "loss, accuracy = model.evaluate(X_test_pad, y_test, verbose=0)\n",
    "print(f\"测试集准确率：{accuracy:.2f}\")\n",
    "\n",
    "# 9. 单条预测\n",
    "def predict_sentiment(text):\n",
    "    text_cut = chinese_cut(text)\n",
    "    text_seq = tokenizer.texts_to_sequences([text_cut])\n",
    "    text_pad = pad_sequences(text_seq, maxlen=maxlen, padding=\"post\")\n",
    "    prediction = model.predict(text_pad)\n",
    "    sentiment = np.argmax(prediction, axis=1)[0]\n",
    "    print(sentiment)\n",
    "    sentiment_map = {0: \"差评\", 1: \"中评\", 2: \"好评\"}\n",
    "    return sentiment_map[sentiment]\n",
    "\n",
    "# 测试单条数据\n",
    "test_text = \"真好！\"\n",
    "print(\"预测结果：\", predict_sentiment(test_text))\n"
   ]
  },
  {
   "cell_type": "code",
   "execution_count": 1,
   "metadata": {},
   "outputs": [],
   "source": [
    "import datetime\n",
    "import pandas as pd \n",
    "\n",
    "df = pd.read_csv(\"/Users/damon/Desktop/jdComment/datasets/训练集.csv\")\n",
    "\n",
    "def convert_to_2024(timestamp):\n",
    "    dt_object = datetime.datetime.fromtimestamp(timestamp)\n",
    "    dt_object_2024 = dt_object.replace(year=2024)\n",
    "    return dt_object_2024\n",
    "\n",
    "df['评论时间'] = df['评论时间戳'].apply(convert_to_2024)\n",
    "df['评价标签'] = df['评分'].apply(lambda x: '好评' if x > 3 else ('中评' if x == 3 else '差评'))\n"
   ]
  },
  {
   "cell_type": "code",
   "execution_count": 15,
   "metadata": {},
   "outputs": [],
   "source": [
    "df = df[['数据ID', '用户ID', '商品ID', '评论时间戳', '评论时间', '评论标题', '评论内容', '评分', '评价标签']]"
   ]
  },
  {
   "cell_type": "code",
   "execution_count": 16,
   "metadata": {},
   "outputs": [],
   "source": [
    "df.columns = [\"data_id\", \"user_id\", \"product_id\", \"review_timestamp\", \"review_time\", \"review_title\", \"review_content\", \"rating\", \"label\"]\n"
   ]
  },
  {
   "cell_type": "code",
   "execution_count": 3,
   "metadata": {},
   "outputs": [
    {
     "data": {
      "text/plain": [
       "0        刚刚收到,2天我晕,一般快递最快到我们这要3天呢,赞个!!!   包装台简单了,说明书看不懂...\n",
       "1                   不过这本书没有赠送什么代金券。体现不出以前的正版图书送网站学习代金券的特点。\n",
       "2                             很负责任的说一句,亚马逊给我发过来的手机绝对是二手的!!\n",
       "3                    这本书内容很好,就是送的光盘不行。这次重新订购了一套,期望发过来的光盘能用\n",
       "4                                            很实用的一本书,非常喜欢!\n",
       "                               ...                        \n",
       "69995                                就是纸张有的地方脏脏的。书不错,文章很多。\n",
       "69996                        买给我妈看的,也不知道好不好。但是里面的衣服是真的挺漂亮的\n",
       "69997                                       质量好,书也很好,就是太难了\n",
       "69998    看到就迷上了,让人有一股无法言语的就沉浸的魔力。买回来就迫不及待的看完了,还想一口气把她其他...\n",
       "69999                      包装还好,歌曲间隔之间总是有空壳摩擦的声音,不会是盗版吧!!!\n",
       "Name: 评论内容, Length: 70000, dtype: object"
      ]
     },
     "execution_count": 3,
     "metadata": {},
     "output_type": "execute_result"
    }
   ],
   "source": [
    "df[\"评论内容\"]"
   ]
  },
  {
   "cell_type": "code",
   "execution_count": 18,
   "metadata": {},
   "outputs": [],
   "source": [
    "import re\n",
    "from nltk.corpus import stopwords\n",
    "from nltk.tokenize import word_tokenize\n",
    "import nltk\n",
    "\n",
    "# 下载NLTK的停用词和tokenize库\n",
    "nltk.download('punkt')\n",
    "nltk.download('stopwords')\n",
    "\n",
    "comments = comments.str.lower()\n",
    "\n",
    "# 2. 去除标点符号和数字\n",
    "comments = comments.apply(lambda x: re.sub(r'[^a-zA-Z\\s]', '', x))\n",
    "\n",
    "# 3. 去除停用词\n",
    "stop_words = set(stopwords.words('english'))  # 对于中文可以选择中文停用词表\n",
    "comments_cleaned = comments.apply(lambda x: [word for word in word_tokenize(x) if word not in stop_words])\n",
    "\n",
    "# 示例：查看处理后的第一条评论\n",
    "print(comments_cleaned.iloc[0])\n"
   ]
  },
  {
   "cell_type": "code",
   "execution_count": 7,
   "metadata": {},
   "outputs": [],
   "source": [
    "comments = df['评论内容']"
   ]
  },
  {
   "cell_type": "code",
   "execution_count": 4,
   "metadata": {},
   "outputs": [],
   "source": [
    "# 加载哈工大停用词表\n",
    "file_path = \"/Users/damon/Desktop/jdComment/哈工大停用词表.txt\"\n",
    "def load_stopwords(filepath):\n",
    "    with open(filepath, 'r', encoding='utf-8') as f:\n",
    "        stopwords = set([line.strip() for line in f.readlines()])\n",
    "    return stopwords\n",
    "\n",
    "stopwords = load_stopwords(file_path)\n"
   ]
  },
  {
   "cell_type": "code",
   "execution_count": null,
   "metadata": {},
   "outputs": [
    {
     "name": "stderr",
     "output_type": "stream",
     "text": [
      "Building prefix dict from the default dictionary ...\n",
      "Dumping model to file cache /var/folders/c5/h650sxfn083d23_bbhv6n8tw0000gn/T/jieba.cache\n",
      "Loading model cost 0.318 seconds.\n",
      "Prefix dict has been built successfully.\n"
     ]
    },
    {
     "name": "stdout",
     "output_type": "stream",
     "text": [
      "['刚刚', '收到', '快递', '最快', '这要', '赞个', '包装', '简单', '说明书', '看不懂', '瓶子', '半透明', '官方', '卓越', '合作伙伴', '正品', '放心']\n"
     ]
    }
   ],
   "source": [
    "import jieba\n",
    "from collections import Counter\n",
    "\n",
    "file_path = \"/Users/damon/Desktop/jdComment/哈工大停用词表.txt\"\n",
    "def load_stopwords(filepath):\n",
    "    with open(filepath, 'r', encoding='utf-8') as f:\n",
    "        stopwords = set([line.strip() for line in f.readlines()])\n",
    "    return stopwords\n",
    "\n",
    "def preprocess_text(text, stopwords):\n",
    "    words = jieba.cut(text)\n",
    "    return [word for word in words if word not in stopwords and len(word) > 1]\n",
    "\n",
    "\n",
    "stopwords = load_stopwords(file_path)\n",
    "\n",
    "comments_cleaned = comments.apply(lambda x: preprocess_text(x, stopwords))\n",
    "\n",
    "all_words = [word for comment in comments_cleaned for word in comment]\n",
    "word_counts = Counter(all_words)\n",
    "word_counts.most_common(10)\n"
   ]
  },
  {
   "cell_type": "code",
   "execution_count": null,
   "metadata": {},
   "outputs": [
    {
     "name": "stdout",
     "output_type": "stream",
     "text": [
      "[('不错', 17732), ('喜欢', 10086), ('本书', 8568), ('没有', 8002), ('内容', 7878), ('质量', 6816), ('感觉', 6140), ('非常', 5018), ('比较', 4618), ('有点', 4348)]\n"
     ]
    }
   ],
   "source": [
    "from collections import Counter\n",
    "\n",
    "all_words = [word for comment in comments_cleaned for word in comment]\n",
    "word_counts = Counter(all_words)\n",
    "\n",
    "print(word_counts.most_common(10))\n"
   ]
  },
  {
   "cell_type": "code",
   "execution_count": 12,
   "metadata": {},
   "outputs": [
    {
     "data": {
      "text/plain": [
       "[{'name': '不错', 'value': 17732},\n",
       " {'name': '喜欢', 'value': 10086},\n",
       " {'name': '本书', 'value': 8568},\n",
       " {'name': '没有', 'value': 8002},\n",
       " {'name': '内容', 'value': 7878},\n",
       " {'name': '质量', 'value': 6816},\n",
       " {'name': '感觉', 'value': 6140},\n",
       " {'name': '非常', 'value': 5018},\n",
       " {'name': '比较', 'value': 4618},\n",
       " {'name': '有点', 'value': 4348}]"
      ]
     },
     "execution_count": 12,
     "metadata": {},
     "output_type": "execute_result"
    }
   ],
   "source": [
    "[{\"name\": word, \"value\": count} for word, count in word_counts.most_common(10)]\n"
   ]
  },
  {
   "cell_type": "code",
   "execution_count": 2,
   "metadata": {},
   "outputs": [
    {
     "name": "stdout",
     "output_type": "stream",
     "text": [
      "Looking in indexes: http://pypi.tuna.tsinghua.edu.cn/simple\n",
      "Collecting geopy\n",
      "  Downloading https://pypi.tuna.tsinghua.edu.cn/packages/e5/15/cf2a69ade4b194aa524ac75112d5caac37414b20a3a03e6865dfe0bd1539/geopy-2.4.1-py3-none-any.whl (125 kB)\n",
      "Collecting geographiclib<3,>=1.52 (from geopy)\n",
      "  Downloading https://pypi.tuna.tsinghua.edu.cn/packages/9f/5a/a26132406f1f40cf51ea349a5f11b0a46cec02a2031ff82e391c2537247a/geographiclib-2.0-py3-none-any.whl (40 kB)\n",
      "Installing collected packages: geographiclib, geopy\n",
      "Successfully installed geographiclib-2.0 geopy-2.4.1\n",
      "Note: you may need to restart the kernel to use updated packages.\n"
     ]
    }
   ],
   "source": [
    "pip install geopy"
   ]
  }
 ],
 "metadata": {
  "kernelspec": {
   "display_name": "bigdataProject",
   "language": "python",
   "name": "python3"
  },
  "language_info": {
   "codemirror_mode": {
    "name": "ipython",
    "version": 3
   },
   "file_extension": ".py",
   "mimetype": "text/x-python",
   "name": "python",
   "nbconvert_exporter": "python",
   "pygments_lexer": "ipython3",
   "version": "3.12.1"
  }
 },
 "nbformat": 4,
 "nbformat_minor": 2
}
